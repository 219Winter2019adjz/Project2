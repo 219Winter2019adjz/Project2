{
 "cells": [
  {
   "cell_type": "markdown",
   "metadata": {},
   "source": [
    "**EE219 Winter 2019, Project 2**"
   ]
  },
  {
   "cell_type": "code",
   "execution_count": 1,
   "metadata": {
    "collapsed": true
   },
   "outputs": [],
   "source": [
    "# setting the random seed\n",
    "import numpy as np\n",
    "import random\n",
    "import matplotlib.pyplot as plt\n",
    "%matplotlib inline\n",
    "from sklearn.datasets import fetch_20newsgroups\n",
    "\n",
    "np.random.seed(42)\n",
    "random.seed(42)"
   ]
  },
  {
   "cell_type": "code",
   "execution_count": 2,
   "metadata": {
    "collapsed": true
   },
   "outputs": [],
   "source": [
    "from sklearn.datasets import fetch_20newsgroups\n",
    "from sklearn.base import BaseEstimator, TransformerMixin\n",
    "import re\n",
    "# The lemmatizer is actually pretty complicated, it needs Parts of Speech (POS) tags\n",
    "import nltk\n",
    "from nltk import pos_tag\n",
    "# nltk.download('punkt')#, if you need \"tokenizers/punkt/english.pickle\", choose it\n",
    "# nltk.download('averaged_perceptron_tagger')"
   ]
  },
  {
   "cell_type": "code",
   "execution_count": 34,
   "metadata": {
    "collapsed": true
   },
   "outputs": [],
   "source": [
    "# Fetching 20NewsGroups dataset\n",
    "\n",
    "categories = ['comp.sys.ibm.pc.hardware', 'comp.graphics', 'comp.sys.mac.hardware', \n",
    "              'comp.os.ms-windows.misc', 'rec.autos', 'rec.motorcycles', \n",
    "              'rec.sport.baseball', 'rec.sport.hockey']\n",
    "\n",
    "twenty_data = fetch_20newsgroups(subset='all', categories=categories, shuffle=True, random_state=42)\n"
   ]
  },
  {
   "cell_type": "code",
   "execution_count": 4,
   "metadata": {
    "collapsed": false
   },
   "outputs": [
    {
     "data": {
      "image/png": "[encoded data removed]",
      "text/plain": [
       "<matplotlib.figure.Figure at 0x119a42a58>"
      ]
     },
     "metadata": {},
     "output_type": "display_data"
    }
   ],
   "source": [
    "# Fetch all 8 news groups categories and plot a histogram of the training documents.\n",
    "\n",
    "x = range(-1,23)\n",
    "plt.hist(twenty_data.target, x, rwidth=0.9)\n",
    "plt.xlabel('Categories')\n",
    "plt.ylabel('Label Count')\n",
    "plt.xticks(np.arange(9, step=1))\n",
    "plt.xlim(left=-1, right = 9)\n",
    "plt.savefig('20-groups.eps', format='eps', dpi=100)\n",
    "plt.show()"
   ]
  },
  {
   "cell_type": "code",
   "execution_count": 5,
   "metadata": {
    "collapsed": true
   },
   "outputs": [],
   "source": [
    "# Change labels into binary based on two well separated classes: Class 1 (labels 0-3) and Class 2 (labels 4-7).\n",
    "twenty_binary_labels = np.zeros(len(twenty_data.target))\n",
    "for k in range(len(twenty_data.target)):\n",
    "    if twenty_data.target[k] >= 4:\n",
    "        twenty_binary_labels[k] = 1\n",
    "    else:\n",
    "        twenty_binary_labels[k] = 0\n",
    "            \n",
    "class_names = ['Class 1', 'Class 2']"
   ]
  },
  {
   "cell_type": "markdown",
   "metadata": {},
   "source": [
    "**Question 1**"
   ]
  },
  {
   "cell_type": "code",
   "execution_count": 6,
   "metadata": {
    "collapsed": true
   },
   "outputs": [],
   "source": [
    "# Push documents through CountVectorizer\n",
    "from sklearn.feature_extraction.text import CountVectorizer\n",
    "analyzer = CountVectorizer().build_analyzer()\n",
    "\n",
    "count_vect = CountVectorizer(min_df=3, stop_words='english')\n",
    "\n",
    "# do for the whole set\n",
    "X_data = count_vect.fit_transform(twenty_data.data)"
   ]
  },
  {
   "cell_type": "code",
   "execution_count": 7,
   "metadata": {
    "collapsed": false
   },
   "outputs": [
    {
     "name": "stdout",
     "output_type": "stream",
     "text": [
      "Dimensions of the TF-IDF matrix are: (7882, 27768)\n"
     ]
    }
   ],
   "source": [
    "# Report shapes of TF-IDF matrices\n",
    "\n",
    "from sklearn.feature_extraction.text import TfidfTransformer\n",
    "tfidf_transformer = TfidfTransformer()\n",
    "\n",
    "# do for training\n",
    "X_data_tfidf = tfidf_transformer.fit_transform(X_data)\n",
    "print('Dimensions of the TF-IDF matrix are: {}'.format(X_data_tfidf.shape))"
   ]
  },
  {
   "cell_type": "markdown",
   "metadata": {},
   "source": [
    "**Question 2**"
   ]
  },
  {
   "cell_type": "code",
   "execution_count": 8,
   "metadata": {
    "collapsed": false
   },
   "outputs": [],
   "source": [
    "# Applying k-means clustering\n",
    "# data is called X_data_tfidf\n",
    "from sklearn.cluster import KMeans\n",
    "\n",
    "#reference: https://scikit-learn.org/stable/modules/generated/sklearn.cluster.KMeans.html\n",
    "\n",
    "#perfroming kmeans clsutering with k=2\n",
    "kmeans = KMeans(n_clusters=2, random_state=0, max_iter=1001, n_init = 40).fit(X_data_tfidf)\n"
   ]
  },
  {
   "cell_type": "markdown",
   "metadata": {},
   "source": [
    "**Question 2(a)**"
   ]
  },
  {
   "cell_type": "code",
   "execution_count": 9,
   "metadata": {
    "collapsed": false
   },
   "outputs": [
    {
     "data": {
      "text/plain": [
       "array([[   4, 3899],\n",
       "       [1718, 2261]])"
      ]
     },
     "execution_count": 9,
     "metadata": {},
     "output_type": "execute_result"
    }
   ],
   "source": [
    "# Contingency matrix\n",
    "from sklearn.metrics.cluster import contingency_matrix\n",
    "\n",
    "contingency_matrix(twenty_binary_labels, kmeans.labels_)\n"
   ]
  },
  {
   "cell_type": "markdown",
   "metadata": {},
   "source": [
    "**Question 2(b)**"
   ]
  },
  {
   "cell_type": "code",
   "execution_count": 10,
   "metadata": {
    "collapsed": false
   },
   "outputs": [
    {
     "name": "stdout",
     "output_type": "stream",
     "text": [
      "kmeans clustering results with k=2\n",
      "-------------------------------------------------------------------\n",
      "Homegeneity: 0.2535958928926043\n",
      "Completeness: 0.334815748824373\n",
      "V-measure: 0.28860033608397917\n",
      "Adjusted Rand Index: 0.18076179588914554\n",
      "Adjusted Mutual Information Score: 0.25352755133060884\n",
      "-------------------------------------------------------------------\n"
     ]
    },
    {
     "name": "stderr",
     "output_type": "stream",
     "text": [
      "/Users/dmwang626/anaconda/lib/python3.5/site-packages/sklearn/metrics/cluster/supervised.py:732: FutureWarning: The behavior of AMI will change in version 0.22. To match the behavior of 'v_measure_score', AMI will use average_method='arithmetic' by default.\n",
      "  FutureWarning)\n"
     ]
    }
   ],
   "source": [
    "from sklearn.metrics import homogeneity_score\n",
    "from sklearn.metrics import completeness_score\n",
    "from sklearn.metrics import v_measure_score\n",
    "from sklearn.metrics import adjusted_rand_score\n",
    "from sklearn.metrics import adjusted_mutual_info_score\n",
    "\n",
    "homogeneity = homogeneity_score(twenty_binary_labels, kmeans.labels_)\n",
    "completeness = completeness_score(twenty_binary_labels, kmeans.labels_)\n",
    "v_measure = v_measure_score(twenty_binary_labels, kmeans.labels_)\n",
    "adjusted_rand_index = adjusted_rand_score(twenty_binary_labels, kmeans.labels_)\n",
    "adjusted_mutual_info = adjusted_mutual_info_score(twenty_binary_labels, kmeans.labels_)\n",
    "\n",
    "print('kmeans clustering results with k=2')\n",
    "print('-------------------------------------------------------------------')\n",
    "print('Homegeneity: {}'.format(homogeneity))\n",
    "print('Completeness: {}'.format(completeness))\n",
    "print('V-measure: {}'.format(v_measure))\n",
    "print('Adjusted Rand Index: {}'.format(adjusted_rand_index))\n",
    "print('Adjusted Mutual Information Score: {}'.format(adjusted_mutual_info))\n",
    "print('-------------------------------------------------------------------')\n"
   ]
  },
  {
   "cell_type": "code",
   "execution_count": null,
   "metadata": {
    "collapsed": true
   },
   "outputs": [],
   "source": []
  },
  {
   "cell_type": "markdown",
   "metadata": {},
   "source": [
    "#### Question 4"
   ]
  },
  {
   "cell_type": "code",
   "execution_count": 11,
   "metadata": {
    "collapsed": true
   },
   "outputs": [],
   "source": [
    "# Perform SVD on the TF-IDF matrix\n",
    "from sklearn.decomposition import TruncatedSVD\n",
    "\n",
    "svd = TruncatedSVD(n_components=1000, random_state=42)\n",
    "X_data_svd = svd.fit_transform(X_data_tfidf)"
   ]
  },
  {
   "cell_type": "code",
   "execution_count": 12,
   "metadata": {
    "collapsed": false
   },
   "outputs": [
    {
     "data": {
      "image/png": "[encoded data removed]",
      "text/plain": [
       "<matplotlib.figure.Figure at 0x1220f4ba8>"
      ]
     },
     "metadata": {},
     "output_type": "display_data"
    }
   ],
   "source": [
    "# Plot variance ratios\n",
    "\n",
    "variances = svd.explained_variance_ratio_\n",
    "\n",
    "plt.figure()\n",
    "plt.plot(variances)\n",
    "plt.title('Percent variance vs. r')\n",
    "plt.xlabel('r')\n",
    "plt.ylabel('Percent variance')\n",
    "plt.show()"
   ]
  },
  {
   "cell_type": "markdown",
   "metadata": {},
   "source": [
    "#### Question 5"
   ]
  },
  {
   "cell_type": "code",
   "execution_count": 13,
   "metadata": {
    "collapsed": true
   },
   "outputs": [],
   "source": [
    "# Initialize r, which is basically how many components we want to use.\n",
    "\n",
    "r = [1, 2, 3, 5, 10, 20, 50, 100, 300]"
   ]
  },
  {
   "cell_type": "code",
   "execution_count": 16,
   "metadata": {
    "collapsed": false
   },
   "outputs": [],
   "source": [
    "# SVD\n",
    "\n",
    "from sklearn.decomposition import TruncatedSVD\n",
    "\n",
    "svd = TruncatedSVD(n_components=300)\n",
    "X_data_svd_r = svd.fit_transform(X_data_tfidf)"
   ]
  },
  {
   "cell_type": "code",
   "execution_count": 14,
   "metadata": {
    "collapsed": true
   },
   "outputs": [],
   "source": [
    "# Import packages\n",
    "\n",
    "from sklearn.cluster import KMeans\n",
    "from sklearn.metrics import homogeneity_score\n",
    "from sklearn.metrics import completeness_score\n",
    "from sklearn.metrics import v_measure_score\n",
    "from sklearn.metrics import adjusted_rand_score\n",
    "from sklearn.metrics import adjusted_mutual_info_score"
   ]
  },
  {
   "cell_type": "code",
   "execution_count": 21,
   "metadata": {
    "collapsed": false
   },
   "outputs": [
    {
     "name": "stderr",
     "output_type": "stream",
     "text": [
      "/Users/dmwang626/anaconda/lib/python3.5/site-packages/sklearn/metrics/cluster/supervised.py:732: FutureWarning: The behavior of AMI will change in version 0.22. To match the behavior of 'v_measure_score', AMI will use average_method='arithmetic' by default.\n",
      "  FutureWarning)\n",
      "/Users/dmwang626/anaconda/lib/python3.5/site-packages/sklearn/metrics/cluster/supervised.py:732: FutureWarning: The behavior of AMI will change in version 0.22. To match the behavior of 'v_measure_score', AMI will use average_method='arithmetic' by default.\n",
      "  FutureWarning)\n",
      "/Users/dmwang626/anaconda/lib/python3.5/site-packages/sklearn/metrics/cluster/supervised.py:732: FutureWarning: The behavior of AMI will change in version 0.22. To match the behavior of 'v_measure_score', AMI will use average_method='arithmetic' by default.\n",
      "  FutureWarning)\n",
      "/Users/dmwang626/anaconda/lib/python3.5/site-packages/sklearn/metrics/cluster/supervised.py:732: FutureWarning: The behavior of AMI will change in version 0.22. To match the behavior of 'v_measure_score', AMI will use average_method='arithmetic' by default.\n",
      "  FutureWarning)\n",
      "/Users/dmwang626/anaconda/lib/python3.5/site-packages/sklearn/metrics/cluster/supervised.py:732: FutureWarning: The behavior of AMI will change in version 0.22. To match the behavior of 'v_measure_score', AMI will use average_method='arithmetic' by default.\n",
      "  FutureWarning)\n",
      "/Users/dmwang626/anaconda/lib/python3.5/site-packages/sklearn/metrics/cluster/supervised.py:732: FutureWarning: The behavior of AMI will change in version 0.22. To match the behavior of 'v_measure_score', AMI will use average_method='arithmetic' by default.\n",
      "  FutureWarning)\n",
      "/Users/dmwang626/anaconda/lib/python3.5/site-packages/sklearn/metrics/cluster/supervised.py:732: FutureWarning: The behavior of AMI will change in version 0.22. To match the behavior of 'v_measure_score', AMI will use average_method='arithmetic' by default.\n",
      "  FutureWarning)\n",
      "/Users/dmwang626/anaconda/lib/python3.5/site-packages/sklearn/metrics/cluster/supervised.py:732: FutureWarning: The behavior of AMI will change in version 0.22. To match the behavior of 'v_measure_score', AMI will use average_method='arithmetic' by default.\n",
      "  FutureWarning)\n",
      "/Users/dmwang626/anaconda/lib/python3.5/site-packages/sklearn/metrics/cluster/supervised.py:732: FutureWarning: The behavior of AMI will change in version 0.22. To match the behavior of 'v_measure_score', AMI will use average_method='arithmetic' by default.\n",
      "  FutureWarning)\n"
     ]
    }
   ],
   "source": [
    "svd_homogeneity = np.zeros(len(r))\n",
    "svd_completeness = np.zeros(len(r))\n",
    "svd_v = np.zeros(len(r))\n",
    "svd_rand = np.zeros(len(r))\n",
    "svd_mutual_info = np.zeros(len(r))\n",
    "\n",
    "# svd_kmeans = KMeans(n_clusters=2, random_state=0, max_iter=1000, n_init=40)\n",
    "for i in range(len(r)):\n",
    "    svd_kmeans = KMeans(n_clusters=2, random_state=0, max_iter=1000, n_init=40).fit(X_data_svd_r.T[0:r[i]].T)\n",
    "    svd_homogeneity[i] = homogeneity_score(twenty_binary_labels, svd_kmeans.labels_)\n",
    "    svd_completeness[i] = completeness_score(twenty_binary_labels, svd_kmeans.labels_)\n",
    "    svd_v[i] = v_measure_score(twenty_binary_labels, svd_kmeans.labels_)\n",
    "    svd_rand[i] = adjusted_rand_score(twenty_binary_labels, svd_kmeans.labels_)\n",
    "    svd_mutual_info[i] = adjusted_mutual_info_score(twenty_binary_labels, svd_kmeans.labels_)\n",
    "    "
   ]
  },
  {
   "cell_type": "code",
   "execution_count": 27,
   "metadata": {
    "collapsed": false
   },
   "outputs": [
    {
     "data": {
      "image/png": "[encoded data removed]",
      "text/plain": [
       "<matplotlib.figure.Figure at 0x11bcb7b00>"
      ]
     },
     "metadata": {},
     "output_type": "display_data"
    }
   ],
   "source": [
    "# Plot metrics for svd.\n",
    "\n",
    "plt.figure()\n",
    "plt.plot(r, svd_homogeneity)\n",
    "plt.plot(r, svd_completeness)\n",
    "plt.plot(r, svd_v)\n",
    "plt.plot(r, svd_rand)\n",
    "plt.plot(r, svd_mutual_info)\n",
    "\n",
    "plt.legend(['homogeneity', 'completeness', 'v', 'rand', 'mutual information'])\n",
    "plt.show()"
   ]
  },
  {
   "cell_type": "code",
   "execution_count": 43,
   "metadata": {
    "collapsed": false
   },
   "outputs": [
    {
     "name": "stdout",
     "output_type": "stream",
     "text": [
      "Homogeneity scores:  [3.000e-04 5.959e-01 4.164e-01 2.217e-01 2.339e-01 2.353e-01 2.405e-01\n",
      " 2.459e-01 2.423e-01]\n",
      "Completeness scores:  [3.000e-04 5.970e-01 4.506e-01 3.100e-01 3.207e-01 3.218e-01 3.249e-01\n",
      " 3.297e-01 3.270e-01]\n",
      "V measure scores:  [3.000e-04 5.965e-01 4.329e-01 2.585e-01 2.705e-01 2.718e-01 2.765e-01\n",
      " 2.817e-01 2.784e-01]\n",
      "Adjusted rand scores:  [3.000e-04 6.973e-01 4.199e-01 1.452e-01 1.570e-01 1.586e-01 1.656e-01\n",
      " 1.708e-01 1.666e-01]\n",
      "Adjusted mutual information scores:  [2.000e-04 5.959e-01 4.164e-01 2.216e-01 2.338e-01 2.353e-01 2.405e-01\n",
      " 2.458e-01 2.422e-01]\n"
     ]
    }
   ],
   "source": [
    "print('Homogeneity scores: ', np.round(svd_homogeneity, 4))\n",
    "print('Completeness scores: ', np.round(svd_completeness, 4))\n",
    "print('V measure scores: ', np.round(svd_v, 4))\n",
    "print('Adjusted rand scores: ', np.round(svd_rand, 4))\n",
    "print('Adjusted mutual information scores: ', np.round(svd_mutual_info, 4))"
   ]
  },
  {
   "cell_type": "code",
   "execution_count": 28,
   "metadata": {
    "collapsed": true
   },
   "outputs": [],
   "source": [
    "# Import packages\n",
    "\n",
    "from sklearn.decomposition import NMF\n",
    "\n",
    "from sklearn.cluster import KMeans\n",
    "from sklearn.metrics import homogeneity_score\n",
    "from sklearn.metrics import completeness_score\n",
    "from sklearn.metrics import v_measure_score\n",
    "from sklearn.metrics import adjusted_rand_score\n",
    "from sklearn.metrics import adjusted_mutual_info_score"
   ]
  },
  {
   "cell_type": "code",
   "execution_count": 29,
   "metadata": {
    "collapsed": true
   },
   "outputs": [],
   "source": [
    "# Initialize r and each an array for each metric.\n",
    "\n",
    "r = [1, 2, 3, 5, 10, 20, 50, 100, 300]\n",
    "\n",
    "nmf_homogeneity = np.zeros(len(r))\n",
    "nmf_completeness = np.zeros(len(r))\n",
    "nmf_v = np.zeros(len(r))\n",
    "nmf_rand = np.zeros(len(r))\n",
    "nmf_mutual_info = np.zeros(len(r))"
   ]
  },
  {
   "cell_type": "code",
   "execution_count": 30,
   "metadata": {
    "collapsed": false
   },
   "outputs": [
    {
     "name": "stderr",
     "output_type": "stream",
     "text": [
      "/Users/dmwang626/anaconda/lib/python3.5/site-packages/sklearn/metrics/cluster/supervised.py:732: FutureWarning: The behavior of AMI will change in version 0.22. To match the behavior of 'v_measure_score', AMI will use average_method='arithmetic' by default.\n",
      "  FutureWarning)\n",
      "/Users/dmwang626/anaconda/lib/python3.5/site-packages/sklearn/metrics/cluster/supervised.py:732: FutureWarning: The behavior of AMI will change in version 0.22. To match the behavior of 'v_measure_score', AMI will use average_method='arithmetic' by default.\n",
      "  FutureWarning)\n",
      "/Users/dmwang626/anaconda/lib/python3.5/site-packages/sklearn/metrics/cluster/supervised.py:732: FutureWarning: The behavior of AMI will change in version 0.22. To match the behavior of 'v_measure_score', AMI will use average_method='arithmetic' by default.\n",
      "  FutureWarning)\n",
      "/Users/dmwang626/anaconda/lib/python3.5/site-packages/sklearn/metrics/cluster/supervised.py:732: FutureWarning: The behavior of AMI will change in version 0.22. To match the behavior of 'v_measure_score', AMI will use average_method='arithmetic' by default.\n",
      "  FutureWarning)\n",
      "/Users/dmwang626/anaconda/lib/python3.5/site-packages/sklearn/metrics/cluster/supervised.py:732: FutureWarning: The behavior of AMI will change in version 0.22. To match the behavior of 'v_measure_score', AMI will use average_method='arithmetic' by default.\n",
      "  FutureWarning)\n",
      "/Users/dmwang626/anaconda/lib/python3.5/site-packages/sklearn/metrics/cluster/supervised.py:732: FutureWarning: The behavior of AMI will change in version 0.22. To match the behavior of 'v_measure_score', AMI will use average_method='arithmetic' by default.\n",
      "  FutureWarning)\n",
      "/Users/dmwang626/anaconda/lib/python3.5/site-packages/sklearn/metrics/cluster/supervised.py:732: FutureWarning: The behavior of AMI will change in version 0.22. To match the behavior of 'v_measure_score', AMI will use average_method='arithmetic' by default.\n",
      "  FutureWarning)\n",
      "/Users/dmwang626/anaconda/lib/python3.5/site-packages/sklearn/metrics/cluster/supervised.py:732: FutureWarning: The behavior of AMI will change in version 0.22. To match the behavior of 'v_measure_score', AMI will use average_method='arithmetic' by default.\n",
      "  FutureWarning)\n",
      "/Users/dmwang626/anaconda/lib/python3.5/site-packages/sklearn/metrics/cluster/supervised.py:732: FutureWarning: The behavior of AMI will change in version 0.22. To match the behavior of 'v_measure_score', AMI will use average_method='arithmetic' by default.\n",
      "  FutureWarning)\n"
     ]
    }
   ],
   "source": [
    "# Perform NMF for each number of components and calculate each metric\n",
    "\n",
    "for i in range(len(r)):\n",
    "    nmf = NMF(n_components=r[i])\n",
    "    X_data_nmf_r = nmf.fit_transform(X_data_tfidf)\n",
    "    nmf_kmeans = KMeans(n_clusters=2, random_state=0, max_iter=1000, n_init=40).fit(X_data_nmf_r)\n",
    "    nmf_homogeneity[i] = homogeneity_score(twenty_binary_labels, nmf_kmeans.labels_)\n",
    "    nmf_completeness[i] = completeness_score(twenty_binary_labels, nmf_kmeans.labels_)\n",
    "    nmf_v[i] = v_measure_score(twenty_binary_labels, nmf_kmeans.labels_)\n",
    "    nmf_rand[i] = adjusted_rand_score(twenty_binary_labels, nmf_kmeans.labels_)\n",
    "    nmf_mutual_info[i] = adjusted_mutual_info_score(twenty_binary_labels, nmf_kmeans.labels_)"
   ]
  },
  {
   "cell_type": "code",
   "execution_count": 31,
   "metadata": {
    "collapsed": false
   },
   "outputs": [
    {
     "data": {
      "image/png": "[encoded data removed]",
      "text/plain": [
       "<matplotlib.figure.Figure at 0x11c4f3e10>"
      ]
     },
     "metadata": {},
     "output_type": "display_data"
    }
   ],
   "source": [
    "# Plot metrics for nmf.\n",
    "\n",
    "plt.figure()\n",
    "plt.plot(r, nmf_homogeneity)\n",
    "plt.plot(r, nmf_completeness)\n",
    "plt.plot(r, nmf_v)\n",
    "plt.plot(r, nmf_rand)\n",
    "plt.plot(r, nmf_mutual_info)\n",
    "\n",
    "plt.legend(['homogeneity', 'completeness', 'v', 'rand', 'mutual information'])\n",
    "plt.show()"
   ]
  },
  {
   "cell_type": "code",
   "execution_count": 42,
   "metadata": {
    "collapsed": false
   },
   "outputs": [
    {
     "name": "stdout",
     "output_type": "stream",
     "text": [
      "Homogeneity scores:  [3.000e-04 6.790e-01 2.293e-01 1.806e-01 1.893e-01 2.071e-01 1.210e-02\n",
      " 1.300e-03 1.000e-04]\n",
      "Completeness scores:  [3.000e-04 6.801e-01 3.165e-01 2.787e-01 2.862e-01 2.982e-01 7.610e-02\n",
      " 9.170e-02 1.200e-03]\n",
      "V measure scores:  [3.000e-04 6.796e-01 2.660e-01 2.192e-01 2.279e-01 2.444e-01 2.080e-02\n",
      " 2.500e-03 2.000e-04]\n",
      "Adjusted rand scores:  [3.000e-04 7.770e-01 1.528e-01 1.020e-01 1.099e-01 1.301e-01 2.000e-03\n",
      " 1.000e-04 1.000e-04]\n",
      "Adjusted mutual information scores:  [2.000e-04 6.790e-01 2.293e-01 1.806e-01 1.893e-01 2.071e-01 1.200e-02\n",
      " 1.200e-03 0.000e+00]\n"
     ]
    }
   ],
   "source": [
    "print('Homogeneity scores: ', np.round(nmf_homogeneity, 4))\n",
    "print('Completeness scores: ', np.round(nmf_completeness, 4))\n",
    "print('V measure scores: ', np.round(nmf_v, 4))\n",
    "print('Adjusted rand scores: ', np.round(nmf_rand, 4))\n",
    "print('Adjusted mutual information scores: ', np.round(nmf_mutual_info, 4))"
   ]
  },
  {
   "cell_type": "code",
   "execution_count": null,
   "metadata": {
    "collapsed": true
   },
   "outputs": [],
   "source": [
    "print('test. seeing if i get added as contributor. delete later.')"
   ]
  },
  {
   "cell_type": "code",
   "execution_count": null,
   "metadata": {
    "collapsed": true
   },
   "outputs": [],
   "source": []
  }
 ],
 "metadata": {
  "kernelspec": {
   "display_name": "Python [Root]",
   "language": "python",
   "name": "Python [Root]"
  },
  "language_info": {
   "codemirror_mode": {
    "name": "ipython",
    "version": 3
   },
   "file_extension": ".py",
   "mimetype": "text/x-python",
   "name": "python",
   "nbconvert_exporter": "python",
   "pygments_lexer": "ipython3",
   "version": "3.5.2"
  }
 },
 "nbformat": 4,
 "nbformat_minor": 2
}
