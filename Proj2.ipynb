{
 "cells": [
  {
   "cell_type": "markdown",
   "metadata": {},
   "source": [
    "**EE219 Winter 2019, Project 2**"
   ]
  },
  {
   "cell_type": "code",
   "execution_count": 1,
   "metadata": {
    "collapsed": true
   },
   "outputs": [],
   "source": [
    "# setting the random seed\n",
    "import numpy as np\n",
    "import random\n",
    "import matplotlib.pyplot as plt\n",
    "%matplotlib inline\n",
    "from sklearn.datasets import fetch_20newsgroups\n",
    "\n",
    "np.random.seed(42)\n",
    "random.seed(42)"
   ]
  },
  {
   "cell_type": "code",
   "execution_count": 2,
   "metadata": {
    "collapsed": true
   },
   "outputs": [],
   "source": [
    "from sklearn.datasets import fetch_20newsgroups\n",
    "from sklearn.base import BaseEstimator, TransformerMixin\n",
    "import re\n",
    "# The lemmatizer is actually pretty complicated, it needs Parts of Speech (POS) tags\n",
    "import nltk\n",
    "from nltk import pos_tag\n",
    "# nltk.download('punkt')#, if you need \"tokenizers/punkt/english.pickle\", choose it\n",
    "# nltk.download('averaged_perceptron_tagger')"
   ]
  },
  {
   "cell_type": "code",
   "execution_count": 3,
   "metadata": {
    "collapsed": true
   },
   "outputs": [],
   "source": [
    "# Set the global directory to place figs in project:\n",
    "figs_dir = 'figs'\n",
    "\n",
    "import os\n",
    "if not os.path.exists(figs_dir):\n",
    "    os.mkdir(figs_dir)"
   ]
  },
  {
   "cell_type": "code",
   "execution_count": 4,
   "metadata": {
    "collapsed": true
   },
   "outputs": [],
   "source": [
    "# Fetching 20NewsGroups dataset\n",
    "\n",
    "categories = ['comp.sys.ibm.pc.hardware', 'comp.graphics', 'comp.sys.mac.hardware', \n",
    "              'comp.os.ms-windows.misc', 'rec.autos', 'rec.motorcycles', \n",
    "              'rec.sport.baseball', 'rec.sport.hockey']\n",
    "\n",
    "twenty_data = fetch_20newsgroups(subset='all', categories=categories, shuffle=True, random_state=42)\n"
   ]
  },
  {
   "cell_type": "code",
   "execution_count": 5,
   "metadata": {},
   "outputs": [
    {
     "data": {
      "image/png": "[encoded data removed]",
      "text/plain": [
       "<matplotlib.figure.Figure at 0x10e511f98>"
      ]
     },
     "metadata": {},
     "output_type": "display_data"
    }
   ],
   "source": [
    "# Fetch all 8 news groups categories and plot a histogram of the training documents.\n",
    "\n",
    "x = range(-1,23)\n",
    "plt.hist(twenty_data.target, x, rwidth=0.9)\n",
    "plt.xlabel('Categories')\n",
    "plt.ylabel('Label Count')\n",
    "plt.xticks(np.arange(9, step=1))\n",
    "plt.xlim(left=-1, right = 9)\n",
    "plt.savefig('{}/8-groups.eps'.format(figs_dir), format='eps', dpi=100)\n",
    "plt.show()"
   ]
  },
  {
   "cell_type": "code",
   "execution_count": 6,
   "metadata": {
    "collapsed": true
   },
   "outputs": [],
   "source": [
    "# Change labels into binary based on two well separated classes: Class 1 (labels 0-3) and Class 2 (labels 4-7).\n",
    "twenty_binary_labels = np.zeros(len(twenty_data.target))\n",
    "for k in range(len(twenty_data.target)):\n",
    "    if twenty_data.target[k] >= 4:\n",
    "        twenty_binary_labels[k] = 1\n",
    "    else:\n",
    "        twenty_binary_labels[k] = 0\n",
    "            \n",
    "class_names = ['Class 1', 'Class 2']"
   ]
  },
  {
   "cell_type": "markdown",
   "metadata": {},
   "source": [
    "**Question 1**"
   ]
  },
  {
   "cell_type": "code",
   "execution_count": 7,
   "metadata": {
    "collapsed": true
   },
   "outputs": [],
   "source": [
    "# Push documents through CountVectorizer\n",
    "from sklearn.feature_extraction.text import CountVectorizer\n",
    "analyzer = CountVectorizer().build_analyzer()\n",
    "\n",
    "count_vect = CountVectorizer(min_df=3, stop_words='english')\n",
    "\n",
    "# do for the whole set\n",
    "X_data = count_vect.fit_transform(twenty_data.data)"
   ]
  },
  {
   "cell_type": "code",
   "execution_count": 8,
   "metadata": {},
   "outputs": [
    {
     "name": "stdout",
     "output_type": "stream",
     "text": [
      "Dimensions of the TF-IDF matrix are: (7882, 27768)\n"
     ]
    }
   ],
   "source": [
    "# Report shapes of TF-IDF matrices\n",
    "\n",
    "from sklearn.feature_extraction.text import TfidfTransformer\n",
    "tfidf_transformer = TfidfTransformer()\n",
    "\n",
    "# do for training\n",
    "X_data_tfidf = tfidf_transformer.fit_transform(X_data)\n",
    "print('Dimensions of the TF-IDF matrix are: {}'.format(X_data_tfidf.shape))"
   ]
  },
  {
   "cell_type": "markdown",
   "metadata": {},
   "source": [
    "**Question 2**"
   ]
  },
  {
   "cell_type": "code",
   "execution_count": 10,
   "metadata": {},
   "outputs": [],
   "source": [
    "# Applying k-means clustering\n",
    "# data is called X_data_tfidf\n",
    "from sklearn.cluster import KMeans\n",
    "\n",
    "#reference: https://scikit-learn.org/stable/modules/generated/sklearn.cluster.KMeans.html\n",
    "\n",
    "#perfroming kmeans clsutering with k=2\n",
    "kmeans = KMeans(n_clusters=2, random_state=0, max_iter=1001, n_init = 40).fit(X_data_tfidf)\n"
   ]
  },
  {
   "cell_type": "markdown",
   "metadata": {},
   "source": [
    "**Question 2(a)**"
   ]
  },
  {
   "cell_type": "code",
   "execution_count": 11,
   "metadata": {},
   "outputs": [
    {
     "data": {
      "text/plain": [
       "array([[   4, 3899],\n",
       "       [1718, 2261]])"
      ]
     },
     "execution_count": 11,
     "metadata": {},
     "output_type": "execute_result"
    }
   ],
   "source": [
    "# Contingency matrix\n",
    "from sklearn.metrics.cluster import contingency_matrix\n",
    "\n",
    "contingency_matrix(twenty_binary_labels, kmeans.labels_)\n"
   ]
  },
  {
   "cell_type": "markdown",
   "metadata": {},
   "source": [
    "**Question 2(b)**"
   ]
  },
  {
   "cell_type": "code",
   "execution_count": 12,
   "metadata": {},
   "outputs": [
    {
     "name": "stdout",
     "output_type": "stream",
     "text": [
      "kmeans clustering results with k=2\n",
      "-------------------------------------------------------------------\n",
      "Homegeneity: 0.2535958928926043\n",
      "Completeness: 0.334815748824373\n",
      "V-measure: 0.28860033608397917\n",
      "Adjusted Rand Index: 0.18076179588914554\n",
      "Adjusted Mutual Information Score: 0.25352755133060884\n",
      "-------------------------------------------------------------------\n"
     ]
    }
   ],
   "source": [
    "from sklearn.metrics import homogeneity_score\n",
    "from sklearn.metrics import completeness_score\n",
    "from sklearn.metrics import v_measure_score\n",
    "from sklearn.metrics import adjusted_rand_score\n",
    "from sklearn.metrics import adjusted_mutual_info_score\n",
    "\n",
    "homogeneity = homogeneity_score(twenty_binary_labels, kmeans.labels_)\n",
    "completeness = completeness_score(twenty_binary_labels, kmeans.labels_)\n",
    "v_measure = v_measure_score(twenty_binary_labels, kmeans.labels_)\n",
    "adjusted_rand_index = adjusted_rand_score(twenty_binary_labels, kmeans.labels_)\n",
    "adjusted_mutual_info = adjusted_mutual_info_score(twenty_binary_labels, kmeans.labels_)\n",
    "\n",
    "print('kmeans clustering results with k=2')\n",
    "print('-------------------------------------------------------------------')\n",
    "print('Homegeneity: {}'.format(homogeneity))\n",
    "print('Completeness: {}'.format(completeness))\n",
    "print('V-measure: {}'.format(v_measure))\n",
    "print('Adjusted Rand Index: {}'.format(adjusted_rand_index))\n",
    "print('Adjusted Mutual Information Score: {}'.format(adjusted_mutual_info))\n",
    "print('-------------------------------------------------------------------')\n"
   ]
  },
  {
   "cell_type": "code",
   "execution_count": null,
   "metadata": {
    "collapsed": true
   },
   "outputs": [],
   "source": []
  },
  {
   "cell_type": "markdown",
   "metadata": {},
   "source": [
    "#### Question 4"
   ]
  },
  {
   "cell_type": "code",
   "execution_count": 13,
   "metadata": {
    "collapsed": true
   },
   "outputs": [],
   "source": [
    "# Perform SVD on the TF-IDF matrix\n",
    "from sklearn.decomposition import TruncatedSVD\n",
    "\n",
    "svd = TruncatedSVD(n_components=1000, random_state=42)\n",
    "X_data_svd = svd.fit_transform(X_data_tfidf)"
   ]
  },
  {
   "cell_type": "code",
   "execution_count": 14,
   "metadata": {},
   "outputs": [
    {
     "data": {
      "image/png": "[encoded data removed]",
      "text/plain": [
       "<matplotlib.figure.Figure at 0x112876940>"
      ]
     },
     "metadata": {},
     "output_type": "display_data"
    }
   ],
   "source": [
    "# Plot variance ratios\n",
    "\n",
    "variances = svd.explained_variance_ratio_\n",
    "\n",
    "plt.figure()\n",
    "plt.plot(np.cumsum(variances))\n",
    "plt.title('Percent variance vs. r')\n",
    "plt.xlabel('r')\n",
    "plt.ylabel('Percent variance')\n",
    "plt.show()"
   ]
  },
  {
   "cell_type": "markdown",
   "metadata": {},
   "source": [
    "#### Question 5"
   ]
  },
  {
   "cell_type": "code",
   "execution_count": 15,
   "metadata": {
    "collapsed": true
   },
   "outputs": [],
   "source": [
    "# Initialize r, which is basically how many components we want to use.\n",
    "\n",
    "r = [1, 2, 3, 5, 10, 20, 50, 100, 300]"
   ]
  },
  {
   "cell_type": "code",
   "execution_count": 16,
   "metadata": {
    "collapsed": true
   },
   "outputs": [],
   "source": [
    "# SVD\n",
    "\n",
    "from sklearn.decomposition import TruncatedSVD\n",
    "\n",
    "svd = TruncatedSVD(n_components=300)\n",
    "X_data_svd_r = svd.fit_transform(X_data_tfidf)"
   ]
  },
  {
   "cell_type": "code",
   "execution_count": 17,
   "metadata": {
    "collapsed": true
   },
   "outputs": [],
   "source": [
    "# Import packages\n",
    "\n",
    "from sklearn.cluster import KMeans\n",
    "from sklearn.metrics import homogeneity_score\n",
    "from sklearn.metrics import completeness_score\n",
    "from sklearn.metrics import v_measure_score\n",
    "from sklearn.metrics import adjusted_rand_score\n",
    "from sklearn.metrics import adjusted_mutual_info_score"
   ]
  },
  {
   "cell_type": "code",
   "execution_count": 18,
   "metadata": {
    "collapsed": true
   },
   "outputs": [],
   "source": [
    "svd_homogeneity = np.zeros(len(r))\n",
    "svd_completeness = np.zeros(len(r))\n",
    "svd_v = np.zeros(len(r))\n",
    "svd_rand = np.zeros(len(r))\n",
    "svd_mutual_info = np.zeros(len(r))\n",
    "\n",
    "# svd_kmeans = KMeans(n_clusters=2, random_state=0, max_iter=1000, n_init=40)\n",
    "for i in range(len(r)):\n",
    "    svd_kmeans = KMeans(n_clusters=2, random_state=0, max_iter=1000, n_init=40).fit(X_data_svd_r.T[0:r[i]].T)\n",
    "    svd_homogeneity[i] = homogeneity_score(twenty_binary_labels, svd_kmeans.labels_)\n",
    "    svd_completeness[i] = completeness_score(twenty_binary_labels, svd_kmeans.labels_)\n",
    "    svd_v[i] = v_measure_score(twenty_binary_labels, svd_kmeans.labels_)\n",
    "    svd_rand[i] = adjusted_rand_score(twenty_binary_labels, svd_kmeans.labels_)\n",
    "    svd_mutual_info[i] = adjusted_mutual_info_score(twenty_binary_labels, svd_kmeans.labels_)\n",
    "    "
   ]
  },
  {
   "cell_type": "code",
   "execution_count": 19,
   "metadata": {},
   "outputs": [
    {
     "data": {
      "image/png": "[encoded data removed]",
      "text/plain": [
       "<matplotlib.figure.Figure at 0x113ed5748>"
      ]
     },
     "metadata": {},
     "output_type": "display_data"
    }
   ],
   "source": [
    "# Plot metrics for svd.\n",
    "\n",
    "plt.figure()\n",
    "plt.plot(r, svd_homogeneity)\n",
    "plt.plot(r, svd_completeness)\n",
    "plt.plot(r, svd_v)\n",
    "plt.plot(r, svd_rand)\n",
    "plt.plot(r, svd_mutual_info)\n",
    "\n",
    "plt.legend(['homogeneity', 'completeness', 'v', 'rand', 'mutual information'])\n",
    "plt.show()"
   ]
  },
  {
   "cell_type": "code",
   "execution_count": 20,
   "metadata": {},
   "outputs": [
    {
     "name": "stdout",
     "output_type": "stream",
     "text": [
      "Homogeneity scores:  [3.000e-04 5.959e-01 4.164e-01 2.217e-01 2.339e-01 2.353e-01 2.405e-01\n",
      " 2.459e-01 2.423e-01]\n",
      "Completeness scores:  [3.000e-04 5.970e-01 4.506e-01 3.100e-01 3.207e-01 3.218e-01 3.249e-01\n",
      " 3.297e-01 3.270e-01]\n",
      "V measure scores:  [3.000e-04 5.965e-01 4.329e-01 2.585e-01 2.705e-01 2.718e-01 2.765e-01\n",
      " 2.817e-01 2.784e-01]\n",
      "Adjusted rand scores:  [3.000e-04 6.973e-01 4.199e-01 1.452e-01 1.570e-01 1.586e-01 1.656e-01\n",
      " 1.708e-01 1.666e-01]\n",
      "Adjusted mutual information scores:  [2.000e-04 5.959e-01 4.164e-01 2.216e-01 2.338e-01 2.353e-01 2.405e-01\n",
      " 2.458e-01 2.422e-01]\n"
     ]
    }
   ],
   "source": [
    "print('Homogeneity scores: ', np.round(svd_homogeneity, 4))\n",
    "print('Completeness scores: ', np.round(svd_completeness, 4))\n",
    "print('V measure scores: ', np.round(svd_v, 4))\n",
    "print('Adjusted rand scores: ', np.round(svd_rand, 4))\n",
    "print('Adjusted mutual information scores: ', np.round(svd_mutual_info, 4))"
   ]
  },
  {
   "cell_type": "code",
   "execution_count": 21,
   "metadata": {
    "collapsed": true
   },
   "outputs": [],
   "source": [
    "# Import packages\n",
    "\n",
    "from sklearn.decomposition import NMF\n",
    "\n",
    "from sklearn.cluster import KMeans\n",
    "from sklearn.metrics import homogeneity_score\n",
    "from sklearn.metrics import completeness_score\n",
    "from sklearn.metrics import v_measure_score\n",
    "from sklearn.metrics import adjusted_rand_score\n",
    "from sklearn.metrics import adjusted_mutual_info_score"
   ]
  },
  {
   "cell_type": "code",
   "execution_count": 22,
   "metadata": {
    "collapsed": true
   },
   "outputs": [],
   "source": [
    "# Initialize r and each an array for each metric.\n",
    "\n",
    "r = [1, 2, 3, 5, 10, 20, 50, 100, 300]\n",
    "\n",
    "nmf_homogeneity = np.zeros(len(r))\n",
    "nmf_completeness = np.zeros(len(r))\n",
    "nmf_v = np.zeros(len(r))\n",
    "nmf_rand = np.zeros(len(r))\n",
    "nmf_mutual_info = np.zeros(len(r))"
   ]
  },
  {
   "cell_type": "code",
   "execution_count": 23,
   "metadata": {
    "collapsed": true
   },
   "outputs": [],
   "source": [
    "# Perform NMF for each number of components and calculate each metric\n",
    "\n",
    "for i in range(len(r)):\n",
    "    nmf = NMF(n_components=r[i])\n",
    "    X_data_nmf_r = nmf.fit_transform(X_data_tfidf)\n",
    "    nmf_kmeans = KMeans(n_clusters=2, random_state=0, max_iter=1000, n_init=40).fit(X_data_nmf_r)\n",
    "    nmf_homogeneity[i] = homogeneity_score(twenty_binary_labels, nmf_kmeans.labels_)\n",
    "    nmf_completeness[i] = completeness_score(twenty_binary_labels, nmf_kmeans.labels_)\n",
    "    nmf_v[i] = v_measure_score(twenty_binary_labels, nmf_kmeans.labels_)\n",
    "    nmf_rand[i] = adjusted_rand_score(twenty_binary_labels, nmf_kmeans.labels_)\n",
    "    nmf_mutual_info[i] = adjusted_mutual_info_score(twenty_binary_labels, nmf_kmeans.labels_)"
   ]
  },
  {
   "cell_type": "code",
   "execution_count": 24,
   "metadata": {},
   "outputs": [
    {
     "data": {
      "image/png": "[encoded data removed]",
      "text/plain": [
       "<matplotlib.figure.Figure at 0x113ed5780>"
      ]
     },
     "metadata": {},
     "output_type": "display_data"
    }
   ],
   "source": [
    "# Plot metrics for nmf.\n",
    "\n",
    "plt.figure()\n",
    "plt.plot(r, nmf_homogeneity)\n",
    "plt.plot(r, nmf_completeness)\n",
    "plt.plot(r, nmf_v)\n",
    "plt.plot(r, nmf_rand)\n",
    "plt.plot(r, nmf_mutual_info)\n",
    "\n",
    "plt.legend(['homogeneity', 'completeness', 'v', 'rand', 'mutual information'])\n",
    "plt.show()"
   ]
  },
  {
   "cell_type": "code",
   "execution_count": 25,
   "metadata": {},
   "outputs": [
    {
     "name": "stdout",
     "output_type": "stream",
     "text": [
      "Homogeneity scores:  [3.000e-04 6.790e-01 2.293e-01 1.806e-01 1.893e-01 2.071e-01 1.210e-02\n",
      " 1.300e-03 1.000e-04]\n",
      "Completeness scores:  [3.000e-04 6.801e-01 3.165e-01 2.787e-01 2.862e-01 2.982e-01 7.610e-02\n",
      " 9.170e-02 1.200e-03]\n",
      "V measure scores:  [3.000e-04 6.796e-01 2.660e-01 2.192e-01 2.279e-01 2.444e-01 2.080e-02\n",
      " 2.500e-03 2.000e-04]\n",
      "Adjusted rand scores:  [3.000e-04 7.770e-01 1.528e-01 1.020e-01 1.099e-01 1.301e-01 2.000e-03\n",
      " 1.000e-04 1.000e-04]\n",
      "Adjusted mutual information scores:  [2.000e-04 6.790e-01 2.293e-01 1.806e-01 1.893e-01 2.071e-01 1.200e-02\n",
      " 1.200e-03 0.000e+00]\n"
     ]
    }
   ],
   "source": [
    "print('Homogeneity scores: ', np.round(nmf_homogeneity, 4))\n",
    "print('Completeness scores: ', np.round(nmf_completeness, 4))\n",
    "print('V measure scores: ', np.round(nmf_v, 4))\n",
    "print('Adjusted rand scores: ', np.round(nmf_rand, 4))\n",
    "print('Adjusted mutual information scores: ', np.round(nmf_mutual_info, 4))"
   ]
  },
  {
   "cell_type": "markdown",
   "metadata": {},
   "source": [
    "#### Question 6\n",
    "\n",
    "<span style='color:red'>TODO</span>\n",
    "\n",
    "Both the SVD and NMF measures have non-monotonic behaviors as r increases."
   ]
  },
  {
   "cell_type": "markdown",
   "metadata": {
    "collapsed": true
   },
   "source": [
    "#### Question 7\n",
    "\n",
    "Visualize the clustering results for SVD with best r and NMF with best r"
   ]
  },
  {
   "cell_type": "code",
   "execution_count": 26,
   "metadata": {
    "collapsed": true
   },
   "outputs": [],
   "source": [
    "# Visualize clustering results on 2-D plane with SVD and coloring\n",
    "# Compare ground truth label and clustering label plots\n",
    "\n",
    "# Define what the best r is for both SVD and NMF\n",
    "SVD_best_r = 2\n",
    "NMF_best_r = 2"
   ]
  },
  {
   "cell_type": "code",
   "execution_count": 94,
   "metadata": {},
   "outputs": [
    {
     "data": {
      "text/plain": [
       "Text(0.5,1,'SVD with Ground Truth')"
      ]
     },
     "execution_count": 94,
     "metadata": {},
     "output_type": "execute_result"
    },
    {
     "data": {
      "image/png": "[encoded data removed]",
      "text/plain": [
       "<matplotlib.figure.Figure at 0x11274b2b0>"
      ]
     },
     "metadata": {},
     "output_type": "display_data"
    }
   ],
   "source": [
    "# SVD, ground truth\n",
    "\n",
    "data_svd_to_plot = X_data_svd_r[:, 0:2] # Take the first two columns of the svd Data to plot\n",
    "\n",
    "color_truth = np.zeros(len(twenty_binary_labels))\n",
    "\n",
    "for i in range(len(twenty_binary_labels)):\n",
    "    if twenty_binary_labels[i] == 0:\n",
    "        color_truth[i] = 1\n",
    "\n",
    "plt.scatter(data_svd_to_plot[:,0] ,data_svd_to_plot[:,1], c = color_truth)\n",
    "plt.title('SVD with Ground Truth')"
   ]
  },
  {
   "cell_type": "code",
   "execution_count": 93,
   "metadata": {},
   "outputs": [
    {
     "data": {
      "text/plain": [
       "Text(0.5,1,'SVD with Best r')"
      ]
     },
     "execution_count": 93,
     "metadata": {},
     "output_type": "execute_result"
    },
    {
     "data": {
      "image/png": "[encoded data removed]",
      "text/plain": [
       "<matplotlib.figure.Figure at 0x1128a2160>"
      ]
     },
     "metadata": {},
     "output_type": "display_data"
    }
   ],
   "source": [
    "# SVD with best r\n",
    "\n",
    "svd_kmeans = KMeans(n_clusters=2, random_state=0, max_iter=1000, n_init=40).fit(X_data_svd_r.T[0:SVD_best_r].T)\n",
    "\n",
    "svd_to_plot = svd_kmeans.labels_\n",
    "\n",
    "color_svd = np.zeros(len(svd_to_plot))\n",
    "\n",
    "for i in range(len(svd_to_plot)):\n",
    "    if svd_to_plot[i] == 1:\n",
    "        color_svd[i] = 1\n",
    "\n",
    "np.shape(svd_to_plot)\n",
    "\n",
    "plt.scatter(data_svd_to_plot[:,0] ,data_svd_to_plot[:,1], c = color_svd)\n",
    "plt.title('SVD with Best r')"
   ]
  },
  {
   "cell_type": "code",
   "execution_count": 29,
   "metadata": {},
   "outputs": [
    {
     "data": {
      "text/plain": [
       "Text(0.5,1,'NMF with Ground Truth')"
      ]
     },
     "execution_count": 29,
     "metadata": {},
     "output_type": "execute_result"
    },
    {
     "data": {
      "image/png": "[encoded data removed]",
      "text/plain": [
       "<matplotlib.figure.Figure at 0x1128a2908>"
      ]
     },
     "metadata": {},
     "output_type": "display_data"
    }
   ],
   "source": [
    "# NMF, ground truth\n",
    "\n",
    "# Reset NMF\n",
    "nmf = NMF(n_components=NMF_best_r)\n",
    "X_data_nmf_r = nmf.fit_transform(X_data_tfidf)    \n",
    "    \n",
    "nmf_to_plot = X_data_nmf_r[:, 0:2] # Take the first two columns of the NMF Data to plot\n",
    "\n",
    "color_truth = np.zeros(len(twenty_binary_labels))\n",
    "\n",
    "for i in range(len(twenty_binary_labels)):\n",
    "    if twenty_binary_labels[i] == 1:\n",
    "        color_truth[i] = 1      \n",
    "\n",
    "plt.scatter(nmf_to_plot[:,0] ,nmf_to_plot[:,1], c = color_truth)\n",
    "plt.title('NMF with Ground Truth')"
   ]
  },
  {
   "cell_type": "code",
   "execution_count": 30,
   "metadata": {},
   "outputs": [
    {
     "data": {
      "text/plain": [
       "Text(0.5,1,'NMF with Best r')"
      ]
     },
     "execution_count": 30,
     "metadata": {},
     "output_type": "execute_result"
    },
    {
     "data": {
      "image/png": "[encoded data removed]",
      "text/plain": [
       "<matplotlib.figure.Figure at 0x1128e1a20>"
      ]
     },
     "metadata": {},
     "output_type": "display_data"
    }
   ],
   "source": [
    "# NMF with best r\n",
    "\n",
    "# Reset NMF\n",
    "\n",
    "nmf = NMF(n_components=NMF_best_r)\n",
    "X_data_nmf_r = nmf.fit_transform(X_data_tfidf)    \n",
    "nmf_kmeans = KMeans(n_clusters=2, random_state=0, max_iter=1000, n_init=40).fit(X_data_nmf_r)\n",
    "\n",
    "nmf_to_label = nmf_kmeans.labels_\n",
    "\n",
    "color_nmf = np.zeros(len(nmf_to_label))\n",
    "\n",
    "for i in range(len(nmf_to_label)):\n",
    "    if nmf_to_label[i] == 1:\n",
    "        color_nmf[i] = 1\n",
    "        \n",
    "# Redefine NMF for ploting        \n",
    "nmf = NMF(n_components=NMF_best_r)\n",
    "X_data_nmf_r = nmf.fit_transform(X_data_tfidf)    \n",
    "nmf_to_plot = X_data_nmf_r[:, 0:2] # Take the first two columns of the NMF Data to plot\n",
    "\n",
    "plt.scatter(nmf_to_plot[:,0] ,nmf_to_plot[:,1], c = color_nmf)\n",
    "plt.title('NMF with Best r')"
   ]
  },
  {
   "cell_type": "markdown",
   "metadata": {},
   "source": [
    "#### Question 8\n",
    "\n",
    "Transforming the data"
   ]
  },
  {
   "cell_type": "code",
   "execution_count": 84,
   "metadata": {},
   "outputs": [],
   "source": [
    "# Scaling features such that each feature has unit variance\n",
    "\n",
    "def scaling (features): # Each column of the reduced dimension data has unit variance \n",
    "    r, c = np.shape(features)\n",
    "    scaled = np.zeros((r,c))\n",
    "    for j in range(c):\n",
    "        var = np.var(features[:,j])\n",
    "        unit_var = (np.sqrt((var)**2))\n",
    "        for i in range(r):\n",
    "            scaled[i,j] = features[i,j]*unit_var\n",
    "    return scaled  "
   ]
  },
  {
   "cell_type": "code",
   "execution_count": 95,
   "metadata": {},
   "outputs": [
    {
     "data": {
      "text/plain": [
       "Text(0.5,1,'SVD with Unit Variance Scaling')"
      ]
     },
     "execution_count": 95,
     "metadata": {},
     "output_type": "execute_result"
    },
    {
     "data": {
      "image/png": "[encoded data removed]",
      "text/plain": [
       "<matplotlib.figure.Figure at 0x112d0f4a8>"
      ]
     },
     "metadata": {},
     "output_type": "display_data"
    }
   ],
   "source": [
    "# SVD with Unit Variance Transform\n",
    "\n",
    "svd_uv_transform = scaling(X_data_svd_r)\n",
    "svd_kmeans = KMeans(n_clusters=2, random_state=0, max_iter=1000, n_init=40).fit(svd_uv_transform.T[0:SVD_best_r].T)\n",
    "\n",
    "svd_to_plot = svd_kmeans.labels_\n",
    "\n",
    "color_svd = np.zeros(len(svd_to_plot))\n",
    "\n",
    "for i in range(len(svd_to_plot)):\n",
    "    if svd_to_plot[i] == 0:\n",
    "        color_svd[i] = 1\n",
    "\n",
    "np.shape(svd_to_plot)\n",
    "\n",
    "plt.scatter(data_svd_to_plot[:,0] ,data_svd_to_plot[:,1], c = color_svd)\n",
    "plt.title('SVD with Unit Variance Scaling')"
   ]
  },
  {
   "cell_type": "code",
   "execution_count": 96,
   "metadata": {},
   "outputs": [
    {
     "data": {
      "text/plain": [
       "Text(0.5,1,'NMF with Unit Variance Scaling')"
      ]
     },
     "execution_count": 96,
     "metadata": {},
     "output_type": "execute_result"
    },
    {
     "data": {
      "image/png": "[encoded data removed]",
      "text/plain": [
       "<matplotlib.figure.Figure at 0x114528630>"
      ]
     },
     "metadata": {},
     "output_type": "display_data"
    }
   ],
   "source": [
    "# NMF with Unit Variance Transform\n",
    "\n",
    "# Reset NMF\n",
    "nmf = NMF(n_components=NMF_best_r)\n",
    "X_data_nmf_r = nmf.fit_transform(X_data_tfidf)    \n",
    "\n",
    "nmf_uv_transform = scaling(X_data_nmf_r)\n",
    "\n",
    "nmf_kmeans = KMeans(n_clusters=2, random_state=0, max_iter=1000, n_init=40).fit(nmf_uv_transform)\n",
    "\n",
    "nmf_to_label = nmf_kmeans.labels_\n",
    "\n",
    "color_nmf = np.zeros(len(nmf_to_label))\n",
    "\n",
    "for i in range(len(nmf_to_label)):\n",
    "    if nmf_to_label[i] == 0:\n",
    "        color_nmf[i] = 1\n",
    "        \n",
    "# Redefine NMF for ploting        \n",
    "nmf = NMF(n_components=NMF_best_r)\n",
    "X_data_nmf_r = nmf.fit_transform(X_data_tfidf)    \n",
    "nmf_to_plot = X_data_nmf_r[:, 0:2] # Take the first two columns of the NMF Data to plot\n",
    "\n",
    "plt.scatter(nmf_to_plot[:,0] ,nmf_to_plot[:,1], c = color_nmf)\n",
    "plt.title('NMF with Unit Variance Scaling')"
   ]
  },
  {
   "cell_type": "code",
   "execution_count": 90,
   "metadata": {
    "collapsed": true
   },
   "outputs": [],
   "source": [
    "# Logarithm transformation \n",
    "\n",
    "# Create def here"
   ]
  },
  {
   "cell_type": "code",
   "execution_count": 91,
   "metadata": {
    "collapsed": true
   },
   "outputs": [],
   "source": [
    "# Combining the transformations"
   ]
  },
  {
   "cell_type": "markdown",
   "metadata": {
    "collapsed": true
   },
   "source": [
    "#### Question 11"
   ]
  },
  {
   "cell_type": "markdown",
   "metadata": {},
   "source": [
    "##### Pull in the 20-category dataset"
   ]
  },
  {
   "cell_type": "code",
   "execution_count": 43,
   "metadata": {},
   "outputs": [
    {
     "data": {
      "image/png": "[encoded data removed]",
      "text/plain": [
       "<matplotlib.figure.Figure at 0x10cdb8940>"
      ]
     },
     "metadata": {},
     "output_type": "display_data"
    },
    {
     "name": "stdout",
     "output_type": "stream",
     "text": [
      "20\n",
      "['alt.atheism', 'comp.graphics', 'comp.os.ms-windows.misc', 'comp.sys.ibm.pc.hardware', 'comp.sys.mac.hardware', 'comp.windows.x', 'misc.forsale', 'rec.autos', 'rec.motorcycles', 'rec.sport.baseball', 'rec.sport.hockey', 'sci.crypt', 'sci.electronics', 'sci.med', 'sci.space', 'soc.religion.christian', 'talk.politics.guns', 'talk.politics.mideast', 'talk.politics.misc', 'talk.religion.misc']\n"
     ]
    }
   ],
   "source": [
    "# Fetch all 20 news groups categories and plot a histogram of the training documents.\n",
    "\n",
    "twenty_data20 = fetch_20newsgroups(subset='train', shuffle=True, random_state=42)\n",
    "x = range(-1,23)\n",
    "plt.hist(twenty_data20.target, x, rwidth=0.9)\n",
    "plt.xlabel('Categories')\n",
    "plt.ylabel('Label Count')\n",
    "plt.xlim(xmin=-1, xmax = 21)\n",
    "plt.savefig('{}/20-groups.eps'.format(figs_dir), format='eps', dpi=100)\n",
    "plt.show()\n",
    "\n",
    "categories = twenty_data20.target_names\n",
    "print(len(categories)) # there should be 20\n",
    "print(categories)"
   ]
  },
  {
   "cell_type": "markdown",
   "metadata": {},
   "source": [
    "##### Redo CountVect and TF-IDF calculations"
   ]
  },
  {
   "cell_type": "code",
   "execution_count": 71,
   "metadata": {
    "collapsed": true
   },
   "outputs": [],
   "source": [
    "# Push documents through CountVectorizer\n",
    "from sklearn.feature_extraction.text import CountVectorizer\n",
    "analyzer = CountVectorizer().build_analyzer()\n",
    "\n",
    "count_vect20 = CountVectorizer(min_df=3, stop_words='english')\n",
    "\n",
    "# do for the whole set\n",
    "X_data20 = count_vect20.fit_transform(twenty_data20.data)"
   ]
  },
  {
   "cell_type": "code",
   "execution_count": 72,
   "metadata": {},
   "outputs": [
    {
     "name": "stdout",
     "output_type": "stream",
     "text": [
      "Dimensions of the TF-IDF matrix are: (11314, 38563)\n"
     ]
    }
   ],
   "source": [
    "# Report shapes of TF-IDF matrices\n",
    "\n",
    "from sklearn.feature_extraction.text import TfidfTransformer\n",
    "tfidf_transformer20 = TfidfTransformer()\n",
    "\n",
    "# do for training\n",
    "X_data_tfidf20 = tfidf_transformer20.fit_transform(X_data20)\n",
    "print('Dimensions of the TF-IDF matrix are: {}'.format(X_data_tfidf20.shape))"
   ]
  },
  {
   "cell_type": "markdown",
   "metadata": {},
   "source": [
    "##### Applying K-means"
   ]
  },
  {
   "cell_type": "code",
   "execution_count": 73,
   "metadata": {},
   "outputs": [
    {
     "name": "stdout",
     "output_type": "stream",
     "text": [
      "Time taken for kmean 20-class clustering: 46.09 minutes\n"
     ]
    }
   ],
   "source": [
    "# Applying k-means clustering\n",
    "# data is called X_data_tfidf\n",
    "from sklearn.cluster import KMeans\n",
    "import time\n",
    "\n",
    "#reference: https://scikit-learn.org/stable/modules/generated/sklearn.cluster.KMeans.html\n",
    "\n",
    "#perfroming kmeans clsutering with k=20\n",
    "start_time = time.time()\n",
    "kmeans20 = KMeans(n_clusters=20, random_state=0, max_iter=1000, n_init = 40, n_jobs=-1).fit(X_data_tfidf20)\n",
    "print('Time taken for kmean 20-class clustering: {:.2f} minutes'.format((time.time() - start_time)/60))\n",
    "      \n",
    "kmeans_labels= kmeans20.labels_\n",
    "category_labels = twenty_data20.target"
   ]
  },
  {
   "cell_type": "markdown",
   "metadata": {},
   "source": [
    "#### Report the 5 measures:"
   ]
  },
  {
   "cell_type": "code",
   "execution_count": 74,
   "metadata": {},
   "outputs": [
    {
     "name": "stdout",
     "output_type": "stream",
     "text": [
      "kmeans clustering results with k=20\n",
      "-------------------------------------------------------------------\n",
      "Homegeneity: 0.34476681370081913\n",
      "Completeness: 0.4250283412607037\n",
      "V-measure: 0.3807134040907847\n",
      "Adjusted Rand Index: 0.12391949549226418\n",
      "Adjusted Mutual Information Score: 0.3411630906533835\n",
      "-------------------------------------------------------------------\n"
     ]
    }
   ],
   "source": [
    "from sklearn.metrics import homogeneity_score\n",
    "from sklearn.metrics import completeness_score\n",
    "from sklearn.metrics import v_measure_score\n",
    "from sklearn.metrics import adjusted_rand_score\n",
    "from sklearn.metrics import adjusted_mutual_info_score\n",
    "\n",
    "homogeneity = homogeneity_score(category_labels, kmeans_labels)\n",
    "completeness = completeness_score(category_labels, kmeans_labels)\n",
    "v_measure = v_measure_score(category_labels, kmeans_labels)\n",
    "adjusted_rand_index = adjusted_rand_score(category_labels, kmeans_labels)\n",
    "adjusted_mutual_info = adjusted_mutual_info_score(category_labels, kmeans_labels)\n",
    "\n",
    "print('kmeans clustering results with k=20')\n",
    "print('-------------------------------------------------------------------')\n",
    "print('Homegeneity: {}'.format(homogeneity))\n",
    "print('Completeness: {}'.format(completeness))\n",
    "print('V-measure: {}'.format(v_measure))\n",
    "print('Adjusted Rand Index: {}'.format(adjusted_rand_index))\n",
    "print('Adjusted Mutual Information Score: {}'.format(adjusted_mutual_info))\n",
    "print('-------------------------------------------------------------------')"
   ]
  },
  {
   "cell_type": "markdown",
   "metadata": {},
   "source": [
    "##### and the contingency matrix:"
   ]
  },
  {
   "cell_type": "code",
   "execution_count": 75,
   "metadata": {},
   "outputs": [
    {
     "data": {
      "text/plain": [
       "array([[  0,   5, 115,   0,   0,   0,   0,   0,  55,   0,  13, 146, 110,\n",
       "          1,  35,   0,   0,   0,   0,   0],\n",
       "       [  0,   0,   1,   0,  85,   0,   1,   0,  61,   0,   5, 177,   1,\n",
       "         11,  52,   0,   0, 189,   1,   0],\n",
       "       [  0,   0,   0,   0,  95,   0,   0,   7,  35,   0,   7,  67,   0,\n",
       "          1,  38,   0,   0, 311,  30,   0],\n",
       "       [  0,   0,   0,   0, 222,   0,   1, 141,  74,   0,  19,  58,   0,\n",
       "          5,  14,   0,   0,  48,   8,   0],\n",
       "       [  0,   0,   0,   0, 331,   0,   2,  57,  38,   0,  26,  87,   0,\n",
       "          8,  17,   0,   0,   2,  10,   0],\n",
       "       [  0,   0,   0,   2,   7,   0,   0,   0,  79,   0,   5,  98,   0,\n",
       "         16,  49,   0,   0, 272,  65,   0],\n",
       "       [  6,   0,   0,   0, 326,   0,   5,  21,  68,   0,  25, 106,   0,\n",
       "          3,   4,   0,   0,  13,   8,   0],\n",
       "       [  0,   6,   1,   0,   3,   0,   1,   0, 236,   0,  33, 303,   0,\n",
       "          1,   6,   0,   0,   3,   1,   0],\n",
       "       [  0,   0,   0,   0,   3,   0,   5,   0, 292,   0,  10, 209,   0,\n",
       "         15,  64,   0,   0,   0,   0,   0],\n",
       "       [174,   0,   0,   0,   2,   0,   1,   0,  75,   0,   6, 324,   0,\n",
       "          3,   1,   0,   0,   0,  11,   0],\n",
       "       [440,   0,   0,   0,   8,   0,  20,   0,  19,   0,   6,  92,   0,\n",
       "          1,   2,   0,   0,   0,  12,   0],\n",
       "       [  0,  24,   0, 341,   6,   0,   0,   0,  76,   0,   8,  92,   0,\n",
       "          6,  20,   0,   0,  22,   0,   0],\n",
       "       [  1,   0,   1,   1, 112,   0,  11,   3, 151,   0,   6, 236,   0,\n",
       "         20,  29,   0,   0,   6,  14,   0],\n",
       "       [  0,   0,   0,   0,   1,   0,   0,   0, 112,   0,   4, 309,   0,\n",
       "          9,   9,  61,  77,   4,   8,   0],\n",
       "       [  0,   2,   0,   0,   5,   0,  84,   0, 120,   1,   1, 219,   0,\n",
       "        138,  17,   0,   0,   2,   4,   0],\n",
       "       [  0,   4,   0,   0,   0,   0,   0,   0,  46,   0,   3, 170, 348,\n",
       "          0,  10,   0,   0,   0,  18,   0],\n",
       "       [  0, 386,   1,   1,   4,   0,   2,   0,  64,   0,   5,  68,   0,\n",
       "          4,  11,   0,   0,   0,   0,   0],\n",
       "       [  0,   6,   0,   0,   0, 246,  11,   0,  36,   0,  16, 108,   3,\n",
       "          0,   2,   0,   0,   0,   3, 133],\n",
       "       [  0, 111,   0,   1,   0,   0,  11,   0,  64,  65,  35, 164,   3,\n",
       "          8,   3,   0,   0,   0,   0,   0],\n",
       "       [  1,  28,  21,   0,   0,   0,   0,   0,  55,   0,  19, 132, 114,\n",
       "          0,   6,   0,   1,   0,   0,   0]])"
      ]
     },
     "execution_count": 75,
     "metadata": {},
     "output_type": "execute_result"
    }
   ],
   "source": [
    "# Contingency matrix\n",
    "from sklearn.metrics.cluster import contingency_matrix\n",
    "\n",
    "contingency_matrix(category_labels, kmeans_labels)"
   ]
  },
  {
   "cell_type": "markdown",
   "metadata": {},
   "source": [
    "#### Question 12"
   ]
  },
  {
   "cell_type": "markdown",
   "metadata": {},
   "source": [
    "##### Analyzing SVD:"
   ]
  },
  {
   "cell_type": "code",
   "execution_count": 76,
   "metadata": {
    "collapsed": true
   },
   "outputs": [],
   "source": [
    "# Initialize r, which is basically how many components we want to use.\n",
    "\n",
    "r20 = [1, 2, 3, 5, 10, 20, 50, 100, 300]"
   ]
  },
  {
   "cell_type": "code",
   "execution_count": 84,
   "metadata": {
    "collapsed": true
   },
   "outputs": [],
   "source": [
    "# SVD\n",
    "\n",
    "from sklearn.decomposition import TruncatedSVD\n",
    "\n",
    "svd20 = TruncatedSVD(n_components=r20[-1])\n",
    "X_data_svd_r20 = svd20.fit_transform(X_data_tfidf20)"
   ]
  },
  {
   "cell_type": "code",
   "execution_count": null,
   "metadata": {
    "collapsed": true
   },
   "outputs": [],
   "source": [
    "# Import packages\n",
    "\n",
    "from sklearn.cluster import KMeans\n",
    "from sklearn.metrics import homogeneity_score\n",
    "from sklearn.metrics import completeness_score\n",
    "from sklearn.metrics import v_measure_score\n",
    "from sklearn.metrics import adjusted_rand_score\n",
    "from sklearn.metrics import adjusted_mutual_info_score"
   ]
  },
  {
   "cell_type": "code",
   "execution_count": 1,
   "metadata": {},
   "outputs": [
    {
     "ename": "NameError",
     "evalue": "name 'np' is not defined",
     "output_type": "error",
     "traceback": [
      "\u001b[0;31m---------------------------------------------------------------------------\u001b[0m",
      "\u001b[0;31mNameError\u001b[0m                                 Traceback (most recent call last)",
      "\u001b[0;32m<ipython-input-1-1f6fe89dc39d>\u001b[0m in \u001b[0;36m<module>\u001b[0;34m()\u001b[0m\n\u001b[0;32m----> 1\u001b[0;31m \u001b[0msvd_homogeneity\u001b[0m \u001b[0;34m=\u001b[0m \u001b[0mnp\u001b[0m\u001b[0;34m.\u001b[0m\u001b[0mzeros\u001b[0m\u001b[0;34m(\u001b[0m\u001b[0mlen\u001b[0m\u001b[0;34m(\u001b[0m\u001b[0mr20\u001b[0m\u001b[0;34m)\u001b[0m\u001b[0;34m)\u001b[0m\u001b[0;34m\u001b[0m\u001b[0m\n\u001b[0m\u001b[1;32m      2\u001b[0m \u001b[0msvd_completeness\u001b[0m \u001b[0;34m=\u001b[0m \u001b[0mnp\u001b[0m\u001b[0;34m.\u001b[0m\u001b[0mzeros\u001b[0m\u001b[0;34m(\u001b[0m\u001b[0mlen\u001b[0m\u001b[0;34m(\u001b[0m\u001b[0mr20\u001b[0m\u001b[0;34m)\u001b[0m\u001b[0;34m)\u001b[0m\u001b[0;34m\u001b[0m\u001b[0m\n\u001b[1;32m      3\u001b[0m \u001b[0msvd_v\u001b[0m \u001b[0;34m=\u001b[0m \u001b[0mnp\u001b[0m\u001b[0;34m.\u001b[0m\u001b[0mzeros\u001b[0m\u001b[0;34m(\u001b[0m\u001b[0mlen\u001b[0m\u001b[0;34m(\u001b[0m\u001b[0mr20\u001b[0m\u001b[0;34m)\u001b[0m\u001b[0;34m)\u001b[0m\u001b[0;34m\u001b[0m\u001b[0m\n\u001b[1;32m      4\u001b[0m \u001b[0msvd_rand\u001b[0m \u001b[0;34m=\u001b[0m \u001b[0mnp\u001b[0m\u001b[0;34m.\u001b[0m\u001b[0mzeros\u001b[0m\u001b[0;34m(\u001b[0m\u001b[0mlen\u001b[0m\u001b[0;34m(\u001b[0m\u001b[0mr20\u001b[0m\u001b[0;34m)\u001b[0m\u001b[0;34m)\u001b[0m\u001b[0;34m\u001b[0m\u001b[0m\n\u001b[1;32m      5\u001b[0m \u001b[0msvd_mutual_info\u001b[0m \u001b[0;34m=\u001b[0m \u001b[0mnp\u001b[0m\u001b[0;34m.\u001b[0m\u001b[0mzeros\u001b[0m\u001b[0;34m(\u001b[0m\u001b[0mlen\u001b[0m\u001b[0;34m(\u001b[0m\u001b[0mr20\u001b[0m\u001b[0;34m)\u001b[0m\u001b[0;34m)\u001b[0m\u001b[0;34m\u001b[0m\u001b[0m\n",
      "\u001b[0;31mNameError\u001b[0m: name 'np' is not defined"
     ]
    }
   ],
   "source": [
    "svd_homogeneity = np.zeros(len(r20))\n",
    "svd_completeness = np.zeros(len(r20))\n",
    "svd_v = np.zeros(len(r20))\n",
    "svd_rand = np.zeros(len(r20))\n",
    "svd_mutual_info = np.zeros(len(r20))\n",
    "\n",
    "category_labels = twenty_data20.target\n",
    "\n",
    "import time\n",
    "start_time = time.time()\n",
    "\n",
    "for i in range(len(r20)):\n",
    "    interm_time = time.time()\n",
    "    svd_kmeans = KMeans(n_clusters=20, random_state=0, max_iter=1000, n_init=40, n_jobs=-1).fit(X_data_svd_r20[:, 0:r20[i]])\n",
    "    svd_homogeneity[i] = homogeneity_score(category_labels, svd_kmeans.labels_)\n",
    "    svd_completeness[i] = completeness_score(category_labels, svd_kmeans.labels_)\n",
    "    svd_v[i] = v_measure_score(category_labels, svd_kmeans.labels_)\n",
    "    svd_rand[i] = adjusted_rand_score(category_labels, svd_kmeans.labels_)\n",
    "    svd_mutual_info[i] = adjusted_mutual_info_score(category_labels, svd_kmeans.labels_)\n",
    "    print('r={}: {:.2f} minutes'.format(r20[i], (time.time() - interm_time)/60))\n",
    "    \n",
    "print('Time taken for kmean 20-class SVD search: {:.2f} minutes'.format((time.time() - start_time)/60))"
   ]
  },
  {
   "cell_type": "code",
   "execution_count": null,
   "metadata": {
    "collapsed": true
   },
   "outputs": [],
   "source": [
    "# Plot metrics for svd.\n",
    "\n",
    "plt.figure()\n",
    "plt.plot(r, svd_homogeneity)\n",
    "plt.plot(r, svd_completeness)\n",
    "plt.plot(r, svd_v)\n",
    "plt.plot(r, svd_rand)\n",
    "plt.plot(r, svd_mutual_info)\n",
    "\n",
    "plt.legend(['homogeneity', 'completeness', 'v', 'rand', 'mutual information'])\n",
    "plt.show()"
   ]
  },
  {
   "cell_type": "code",
   "execution_count": null,
   "metadata": {
    "collapsed": true
   },
   "outputs": [],
   "source": [
    "print('Homogeneity scores: ', np.round(svd_homogeneity, 4))\n",
    "print('Completeness scores: ', np.round(svd_completeness, 4))\n",
    "print('V measure scores: ', np.round(svd_v, 4))\n",
    "print('Adjusted rand scores: ', np.round(svd_rand, 4))\n",
    "print('Adjusted mutual information scores: ', np.round(svd_mutual_info, 4))"
   ]
  },
  {
   "cell_type": "markdown",
   "metadata": {},
   "source": [
    "##### Analyzing NMF:"
   ]
  },
  {
   "cell_type": "code",
   "execution_count": null,
   "metadata": {
    "collapsed": true
   },
   "outputs": [],
   "source": [
    "# Import packages\n",
    "\n",
    "from sklearn.decomposition import NMF\n",
    "\n",
    "from sklearn.cluster import KMeans\n",
    "from sklearn.metrics import homogeneity_score\n",
    "from sklearn.metrics import completeness_score\n",
    "from sklearn.metrics import v_measure_score\n",
    "from sklearn.metrics import adjusted_rand_score\n",
    "from sklearn.metrics import adjusted_mutual_info_score"
   ]
  },
  {
   "cell_type": "code",
   "execution_count": null,
   "metadata": {
    "collapsed": true
   },
   "outputs": [],
   "source": [
    "# Initialize an array for each metric.\n",
    "\n",
    "nmf_homogeneity = np.zeros(len(r20))\n",
    "nmf_completeness = np.zeros(len(r20))\n",
    "nmf_v = np.zeros(len(r20))\n",
    "nmf_rand = np.zeros(len(r20))\n",
    "nmf_mutual_info = np.zeros(len(r20))"
   ]
  },
  {
   "cell_type": "code",
   "execution_count": null,
   "metadata": {
    "collapsed": true
   },
   "outputs": [],
   "source": [
    "# Perform NMF for each number of components and calculate each metric\n",
    "\n",
    "category_labels = twenty_data20.target\n",
    "\n",
    "import time\n",
    "start_time = time.time()\n",
    "\n",
    "for i in range(len(r20)):\n",
    "    interm_time = time.time()\n",
    "    nmf = NMF(n_components=r20[i])\n",
    "    X_data_nmf_r = nmf.fit_transform(X_data_tfidf20)\n",
    "    nmf_kmeans = KMeans(n_clusters=20, random_state=0, max_iter=1000, n_init=40, n_jobs=-1).fit(X_data_nmf_r)\n",
    "    nmf_homogeneity[i] = homogeneity_score(category_labels, nmf_kmeans.labels_)\n",
    "    nmf_completeness[i] = completeness_score(category_labels, nmf_kmeans.labels_)\n",
    "    nmf_v[i] = v_measure_score(category_labels, nmf_kmeans.labels_)\n",
    "    nmf_rand[i] = adjusted_rand_score(category_labels, nmf_kmeans.labels_)\n",
    "    nmf_mutual_info[i] = adjusted_mutual_info_score(category_labels, nmf_kmeans.labels_)\n",
    "    print('r={}: {:.2f} minutes'.format(r20[i], (time.time() - interm_time)/60))\n",
    "    \n",
    "print('Time taken for kmean 20-class NMF search: {:.2f} minutes'.format((time.time() - start_time)/60))"
   ]
  },
  {
   "cell_type": "code",
   "execution_count": null,
   "metadata": {
    "collapsed": true
   },
   "outputs": [],
   "source": [
    "# Plot metrics for nmf.\n",
    "\n",
    "plt.figure()\n",
    "plt.plot(r, nmf_homogeneity)\n",
    "plt.plot(r, nmf_completeness)\n",
    "plt.plot(r, nmf_v)\n",
    "plt.plot(r, nmf_rand)\n",
    "plt.plot(r, nmf_mutual_info)\n",
    "\n",
    "plt.legend(['homogeneity', 'completeness', 'v', 'rand', 'mutual information'])\n",
    "plt.show()"
   ]
  },
  {
   "cell_type": "code",
   "execution_count": null,
   "metadata": {
    "collapsed": true
   },
   "outputs": [],
   "source": [
    "print('Homogeneity scores: ', np.round(nmf_homogeneity, 4))\n",
    "print('Completeness scores: ', np.round(nmf_completeness, 4))\n",
    "print('V measure scores: ', np.round(nmf_v, 4))\n",
    "print('Adjusted rand scores: ', np.round(nmf_rand, 4))\n",
    "print('Adjusted mutual information scores: ', np.round(nmf_mutual_info, 4))"
   ]
  },
  {
   "cell_type": "code",
   "execution_count": null,
   "metadata": {
    "collapsed": true
   },
   "outputs": [],
   "source": []
  }
 ],
 "metadata": {
  "kernelspec": {
   "display_name": "Python 3",
   "language": "python",
   "name": "python3"
  },
  "language_info": {
   "codemirror_mode": {
    "name": "ipython",
    "version": 3
   },
   "file_extension": ".py",
   "mimetype": "text/x-python",
   "name": "python",
   "nbconvert_exporter": "python",
   "pygments_lexer": "ipython3",
   "version": "3.6.3"
  }
 },
 "nbformat": 4,
 "nbformat_minor": 2
}
