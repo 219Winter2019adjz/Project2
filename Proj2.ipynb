{
 "cells": [
  {
   "cell_type": "markdown",
   "metadata": {},
   "source": [
    "**EE219 Winter 2019, Project 2**"
   ]
  },
  {
   "cell_type": "code",
   "execution_count": 23,
   "metadata": {},
   "outputs": [],
   "source": [
    "# setting the random seed\n",
    "import numpy as np\n",
    "import random\n",
    "import matplotlib.pyplot as plt\n",
    "%matplotlib inline\n",
    "from sklearn.datasets import fetch_20newsgroups\n",
    "\n",
    "np.random.seed(42)\n",
    "random.seed(42)"
   ]
  },
  {
   "cell_type": "code",
   "execution_count": 24,
   "metadata": {},
   "outputs": [],
   "source": [
    "from sklearn.datasets import fetch_20newsgroups\n",
    "from sklearn.base import BaseEstimator, TransformerMixin\n",
    "import re\n",
    "# The lemmatizer is actually pretty complicated, it needs Parts of Speech (POS) tags\n",
    "import nltk\n",
    "from nltk import pos_tag\n",
    "# nltk.download('punkt')#, if you need \"tokenizers/punkt/english.pickle\", choose it\n",
    "# nltk.download('averaged_perceptron_tagger')"
   ]
  },
  {
   "cell_type": "code",
   "execution_count": 25,
   "metadata": {},
   "outputs": [],
   "source": [
    "# Set the global directory to place figs in project:\n",
    "figs_dir = 'figs'\n",
    "\n",
    "import os\n",
    "if not os.path.exists(figs_dir):\n",
    "    os.mkdir(figs_dir)"
   ]
  },
  {
   "cell_type": "code",
   "execution_count": 26,
   "metadata": {},
   "outputs": [],
   "source": [
    "# Fetching 20NewsGroups dataset\n",
    "\n",
    "categories = ['comp.sys.ibm.pc.hardware', 'comp.graphics', 'comp.sys.mac.hardware', \n",
    "              'comp.os.ms-windows.misc', 'rec.autos', 'rec.motorcycles', \n",
    "              'rec.sport.baseball', 'rec.sport.hockey']\n",
    "\n",
    "twenty_data = fetch_20newsgroups(subset='all', categories=categories, shuffle=True, random_state=42)\n"
   ]
  },
  {
   "cell_type": "code",
   "execution_count": 27,
   "metadata": {},
   "outputs": [
    {
     "data": {
      "image/png": "[encoded data removed]",
      "text/plain": [
       "<Figure size 432x288 with 1 Axes>"
      ]
     },
     "metadata": {
      "needs_background": "light"
     },
     "output_type": "display_data"
    }
   ],
   "source": [
    "# Fetch all 8 news groups categories and plot a histogram of the training documents.\n",
    "\n",
    "x = range(-1,23)\n",
    "plt.hist(twenty_data.target, x, rwidth=0.9)\n",
    "plt.xlabel('Categories')\n",
    "plt.ylabel('Label Count')\n",
    "plt.xticks(np.arange(9, step=1))\n",
    "plt.xlim(left=-1, right = 9)\n",
    "plt.savefig('{}/8-groups.eps'.format(figs_dir), format='eps', dpi=100)\n",
    "plt.show()"
   ]
  },
  {
   "cell_type": "code",
   "execution_count": 28,
   "metadata": {},
   "outputs": [],
   "source": [
    "# Change labels into binary based on two well separated classes: Class 1 (labels 0-3) and Class 2 (labels 4-7).\n",
    "twenty_binary_labels = np.zeros(len(twenty_data.target))\n",
    "for k in range(len(twenty_data.target)):\n",
    "    if twenty_data.target[k] >= 4:\n",
    "        twenty_binary_labels[k] = 1\n",
    "    else:\n",
    "        twenty_binary_labels[k] = 0\n",
    "            \n",
    "class_names = ['Class 1', 'Class 2']"
   ]
  },
  {
   "cell_type": "markdown",
   "metadata": {},
   "source": [
    "**Question 1**"
   ]
  },
  {
   "cell_type": "code",
   "execution_count": 29,
   "metadata": {},
   "outputs": [],
   "source": [
    "# Push documents through CountVectorizer\n",
    "from sklearn.feature_extraction.text import CountVectorizer\n",
    "analyzer = CountVectorizer().build_analyzer()\n",
    "\n",
    "count_vect = CountVectorizer(min_df=3, stop_words='english')\n",
    "\n",
    "# do for the whole set\n",
    "X_data = count_vect.fit_transform(twenty_data.data)"
   ]
  },
  {
   "cell_type": "code",
   "execution_count": 30,
   "metadata": {},
   "outputs": [
    {
     "name": "stdout",
     "output_type": "stream",
     "text": [
      "Dimensions of the TF-IDF matrix are: (7882, 27768)\n"
     ]
    }
   ],
   "source": [
    "# Report shapes of TF-IDF matrices\n",
    "\n",
    "from sklearn.feature_extraction.text import TfidfTransformer\n",
    "tfidf_transformer = TfidfTransformer()\n",
    "\n",
    "# do for training\n",
    "X_data_tfidf = tfidf_transformer.fit_transform(X_data)\n",
    "print('Dimensions of the TF-IDF matrix are: {}'.format(X_data_tfidf.shape))"
   ]
  },
  {
   "cell_type": "markdown",
   "metadata": {},
   "source": [
    "**Question 2**"
   ]
  },
  {
   "cell_type": "code",
   "execution_count": 31,
   "metadata": {},
   "outputs": [],
   "source": [
    "# Applying k-means clustering\n",
    "# data is called X_data_tfidf\n",
    "from sklearn.cluster import KMeans\n",
    "\n",
    "#reference: https://scikit-learn.org/stable/modules/generated/sklearn.cluster.KMeans.html\n",
    "\n",
    "#perfroming kmeans clsutering with k=2\n",
    "kmeans = KMeans(n_clusters=2, random_state=0, max_iter=1001, n_init = 40).fit(X_data_tfidf)\n"
   ]
  },
  {
   "cell_type": "markdown",
   "metadata": {},
   "source": [
    "**Question 2(a)**"
   ]
  },
  {
   "cell_type": "code",
   "execution_count": 32,
   "metadata": {},
   "outputs": [
    {
     "data": {
      "text/plain": [
       "array([[   4, 3899],\n",
       "       [1718, 2261]])"
      ]
     },
     "execution_count": 32,
     "metadata": {},
     "output_type": "execute_result"
    }
   ],
   "source": [
    "# Contingency matrix\n",
    "from sklearn.metrics.cluster import contingency_matrix\n",
    "\n",
    "contingency_matrix(twenty_binary_labels, kmeans.labels_)\n"
   ]
  },
  {
   "cell_type": "markdown",
   "metadata": {},
   "source": [
    "**Question 2(b)**"
   ]
  },
  {
   "cell_type": "code",
   "execution_count": 33,
   "metadata": {},
   "outputs": [
    {
     "name": "stdout",
     "output_type": "stream",
     "text": [
      "kmeans clustering results with k=2\n",
      "-------------------------------------------------------------------\n",
      "Homegeneity: 0.2535958928926043\n",
      "Completeness: 0.334815748824373\n",
      "V-measure: 0.28860033608397917\n",
      "Adjusted Rand Index: 0.18076179588914554\n",
      "Adjusted Mutual Information Score: 0.25352755133060884\n",
      "-------------------------------------------------------------------\n"
     ]
    },
    {
     "name": "stderr",
     "output_type": "stream",
     "text": [
      "C:\\Users\\zharr\\AppData\\Local\\Programs\\Python\\Python35\\lib\\site-packages\\sklearn\\metrics\\cluster\\supervised.py:732: FutureWarning: The behavior of AMI will change in version 0.22. To match the behavior of 'v_measure_score', AMI will use average_method='arithmetic' by default.\n",
      "  FutureWarning)\n"
     ]
    }
   ],
   "source": [
    "from sklearn.metrics import homogeneity_score\n",
    "from sklearn.metrics import completeness_score\n",
    "from sklearn.metrics import v_measure_score\n",
    "from sklearn.metrics import adjusted_rand_score\n",
    "from sklearn.metrics import adjusted_mutual_info_score\n",
    "\n",
    "homogeneity = homogeneity_score(twenty_binary_labels, kmeans.labels_)\n",
    "completeness = completeness_score(twenty_binary_labels, kmeans.labels_)\n",
    "v_measure = v_measure_score(twenty_binary_labels, kmeans.labels_)\n",
    "adjusted_rand_index = adjusted_rand_score(twenty_binary_labels, kmeans.labels_)\n",
    "adjusted_mutual_info = adjusted_mutual_info_score(twenty_binary_labels, kmeans.labels_)\n",
    "\n",
    "print('kmeans clustering results with k=2')\n",
    "print('-------------------------------------------------------------------')\n",
    "print('Homegeneity: {}'.format(homogeneity))\n",
    "print('Completeness: {}'.format(completeness))\n",
    "print('V-measure: {}'.format(v_measure))\n",
    "print('Adjusted Rand Index: {}'.format(adjusted_rand_index))\n",
    "print('Adjusted Mutual Information Score: {}'.format(adjusted_mutual_info))\n",
    "print('-------------------------------------------------------------------')\n"
   ]
  },
  {
   "cell_type": "code",
   "execution_count": null,
   "metadata": {},
   "outputs": [],
   "source": []
  },
  {
   "cell_type": "markdown",
   "metadata": {},
   "source": [
    "#### Question 4"
   ]
  },
  {
   "cell_type": "code",
   "execution_count": 34,
   "metadata": {},
   "outputs": [],
   "source": [
    "# Perform SVD on the TF-IDF matrix\n",
    "from sklearn.decomposition import TruncatedSVD\n",
    "\n",
    "svd = TruncatedSVD(n_components=1000, random_state=42)\n",
    "X_data_svd = svd.fit_transform(X_data_tfidf)"
   ]
  },
  {
   "cell_type": "code",
   "execution_count": 35,
   "metadata": {},
   "outputs": [
    {
     "data": {
      "image/png": "[encoded data removed]",
      "text/plain": [
       "<Figure size 432x288 with 1 Axes>"
      ]
     },
     "metadata": {
      "needs_background": "light"
     },
     "output_type": "display_data"
    }
   ],
   "source": [
    "# Plot variance ratios\n",
    "\n",
    "variances = svd.explained_variance_ratio_\n",
    "\n",
    "plt.figure()\n",
    "plt.plot(np.cumsum(variances))\n",
    "plt.title('Percent variance vs. r')\n",
    "plt.xlabel('r')\n",
    "plt.ylabel('Percent variance')\n",
    "plt.show()"
   ]
  },
  {
   "cell_type": "markdown",
   "metadata": {},
   "source": [
    "#### Question 5"
   ]
  },
  {
   "cell_type": "code",
   "execution_count": 36,
   "metadata": {},
   "outputs": [],
   "source": [
    "# Initialize r, which is basically how many components we want to use.\n",
    "\n",
    "r = [1, 2, 3, 5, 10, 20, 50, 100, 300]"
   ]
  },
  {
   "cell_type": "code",
   "execution_count": 37,
   "metadata": {},
   "outputs": [],
   "source": [
    "# SVD\n",
    "\n",
    "from sklearn.decomposition import TruncatedSVD\n",
    "\n",
    "svd = TruncatedSVD(n_components=300)\n",
    "X_data_svd_r = svd.fit_transform(X_data_tfidf)"
   ]
  },
  {
   "cell_type": "code",
   "execution_count": 38,
   "metadata": {},
   "outputs": [],
   "source": [
    "# Import packages\n",
    "\n",
    "from sklearn.cluster import KMeans\n",
    "from sklearn.metrics import homogeneity_score\n",
    "from sklearn.metrics import completeness_score\n",
    "from sklearn.metrics import v_measure_score\n",
    "from sklearn.metrics import adjusted_rand_score\n",
    "from sklearn.metrics import adjusted_mutual_info_score"
   ]
  },
  {
   "cell_type": "code",
   "execution_count": 39,
   "metadata": {},
   "outputs": [
    {
     "name": "stderr",
     "output_type": "stream",
     "text": [
      "C:\\Users\\zharr\\AppData\\Local\\Programs\\Python\\Python35\\lib\\site-packages\\sklearn\\metrics\\cluster\\supervised.py:732: FutureWarning: The behavior of AMI will change in version 0.22. To match the behavior of 'v_measure_score', AMI will use average_method='arithmetic' by default.\n",
      "  FutureWarning)\n",
      "C:\\Users\\zharr\\AppData\\Local\\Programs\\Python\\Python35\\lib\\site-packages\\sklearn\\metrics\\cluster\\supervised.py:732: FutureWarning: The behavior of AMI will change in version 0.22. To match the behavior of 'v_measure_score', AMI will use average_method='arithmetic' by default.\n",
      "  FutureWarning)\n",
      "C:\\Users\\zharr\\AppData\\Local\\Programs\\Python\\Python35\\lib\\site-packages\\sklearn\\metrics\\cluster\\supervised.py:732: FutureWarning: The behavior of AMI will change in version 0.22. To match the behavior of 'v_measure_score', AMI will use average_method='arithmetic' by default.\n",
      "  FutureWarning)\n",
      "C:\\Users\\zharr\\AppData\\Local\\Programs\\Python\\Python35\\lib\\site-packages\\sklearn\\metrics\\cluster\\supervised.py:732: FutureWarning: The behavior of AMI will change in version 0.22. To match the behavior of 'v_measure_score', AMI will use average_method='arithmetic' by default.\n",
      "  FutureWarning)\n",
      "C:\\Users\\zharr\\AppData\\Local\\Programs\\Python\\Python35\\lib\\site-packages\\sklearn\\metrics\\cluster\\supervised.py:732: FutureWarning: The behavior of AMI will change in version 0.22. To match the behavior of 'v_measure_score', AMI will use average_method='arithmetic' by default.\n",
      "  FutureWarning)\n",
      "C:\\Users\\zharr\\AppData\\Local\\Programs\\Python\\Python35\\lib\\site-packages\\sklearn\\metrics\\cluster\\supervised.py:732: FutureWarning: The behavior of AMI will change in version 0.22. To match the behavior of 'v_measure_score', AMI will use average_method='arithmetic' by default.\n",
      "  FutureWarning)\n",
      "C:\\Users\\zharr\\AppData\\Local\\Programs\\Python\\Python35\\lib\\site-packages\\sklearn\\metrics\\cluster\\supervised.py:732: FutureWarning: The behavior of AMI will change in version 0.22. To match the behavior of 'v_measure_score', AMI will use average_method='arithmetic' by default.\n",
      "  FutureWarning)\n",
      "C:\\Users\\zharr\\AppData\\Local\\Programs\\Python\\Python35\\lib\\site-packages\\sklearn\\metrics\\cluster\\supervised.py:732: FutureWarning: The behavior of AMI will change in version 0.22. To match the behavior of 'v_measure_score', AMI will use average_method='arithmetic' by default.\n",
      "  FutureWarning)\n",
      "C:\\Users\\zharr\\AppData\\Local\\Programs\\Python\\Python35\\lib\\site-packages\\sklearn\\metrics\\cluster\\supervised.py:732: FutureWarning: The behavior of AMI will change in version 0.22. To match the behavior of 'v_measure_score', AMI will use average_method='arithmetic' by default.\n",
      "  FutureWarning)\n"
     ]
    }
   ],
   "source": [
    "svd_homogeneity = np.zeros(len(r))\n",
    "svd_completeness = np.zeros(len(r))\n",
    "svd_v = np.zeros(len(r))\n",
    "svd_rand = np.zeros(len(r))\n",
    "svd_mutual_info = np.zeros(len(r))\n",
    "\n",
    "# svd_kmeans = KMeans(n_clusters=2, random_state=0, max_iter=1000, n_init=40)\n",
    "for i in range(len(r)):\n",
    "    svd_kmeans = KMeans(n_clusters=2, random_state=0, max_iter=1000, n_init=40).fit(X_data_svd_r.T[0:r[i]].T)\n",
    "    svd_homogeneity[i] = homogeneity_score(twenty_binary_labels, svd_kmeans.labels_)\n",
    "    svd_completeness[i] = completeness_score(twenty_binary_labels, svd_kmeans.labels_)\n",
    "    svd_v[i] = v_measure_score(twenty_binary_labels, svd_kmeans.labels_)\n",
    "    svd_rand[i] = adjusted_rand_score(twenty_binary_labels, svd_kmeans.labels_)\n",
    "    svd_mutual_info[i] = adjusted_mutual_info_score(twenty_binary_labels, svd_kmeans.labels_)\n",
    "    "
   ]
  },
  {
   "cell_type": "code",
   "execution_count": 40,
   "metadata": {},
   "outputs": [
    {
     "data": {
      "image/png": "[encoded data removed]",
      "text/plain": [
       "<Figure size 432x288 with 1 Axes>"
      ]
     },
     "metadata": {
      "needs_background": "light"
     },
     "output_type": "display_data"
    }
   ],
   "source": [
    "# Plot metrics for svd.\n",
    "\n",
    "plt.figure()\n",
    "plt.plot(r, svd_homogeneity)\n",
    "plt.plot(r, svd_completeness)\n",
    "plt.plot(r, svd_v)\n",
    "plt.plot(r, svd_rand)\n",
    "plt.plot(r, svd_mutual_info)\n",
    "\n",
    "plt.legend(['homogeneity', 'completeness', 'v', 'rand', 'mutual information'])\n",
    "plt.show()"
   ]
  },
  {
   "cell_type": "code",
   "execution_count": 41,
   "metadata": {},
   "outputs": [
    {
     "name": "stdout",
     "output_type": "stream",
     "text": [
      "Homogeneity scores:  [3.000e-04 5.959e-01 4.164e-01 2.217e-01 2.339e-01 2.353e-01 2.405e-01\n",
      " 2.459e-01 2.423e-01]\n",
      "Completeness scores:  [3.000e-04 5.970e-01 4.506e-01 3.100e-01 3.207e-01 3.218e-01 3.249e-01\n",
      " 3.297e-01 3.270e-01]\n",
      "V measure scores:  [3.000e-04 5.965e-01 4.329e-01 2.585e-01 2.705e-01 2.718e-01 2.765e-01\n",
      " 2.817e-01 2.784e-01]\n",
      "Adjusted rand scores:  [3.000e-04 6.973e-01 4.199e-01 1.452e-01 1.570e-01 1.586e-01 1.656e-01\n",
      " 1.708e-01 1.666e-01]\n",
      "Adjusted mutual information scores:  [2.000e-04 5.959e-01 4.164e-01 2.216e-01 2.338e-01 2.353e-01 2.405e-01\n",
      " 2.458e-01 2.422e-01]\n"
     ]
    }
   ],
   "source": [
    "print('Homogeneity scores: ', np.round(svd_homogeneity, 4))\n",
    "print('Completeness scores: ', np.round(svd_completeness, 4))\n",
    "print('V measure scores: ', np.round(svd_v, 4))\n",
    "print('Adjusted rand scores: ', np.round(svd_rand, 4))\n",
    "print('Adjusted mutual information scores: ', np.round(svd_mutual_info, 4))"
   ]
  },
  {
   "cell_type": "code",
   "execution_count": 42,
   "metadata": {},
   "outputs": [],
   "source": [
    "# Import packages\n",
    "\n",
    "from sklearn.decomposition import NMF\n",
    "\n",
    "from sklearn.cluster import KMeans\n",
    "from sklearn.metrics import homogeneity_score\n",
    "from sklearn.metrics import completeness_score\n",
    "from sklearn.metrics import v_measure_score\n",
    "from sklearn.metrics import adjusted_rand_score\n",
    "from sklearn.metrics import adjusted_mutual_info_score"
   ]
  },
  {
   "cell_type": "code",
   "execution_count": 43,
   "metadata": {},
   "outputs": [],
   "source": [
    "# Initialize r and each an array for each metric.\n",
    "\n",
    "r = [1, 2, 3, 5, 10, 20, 50, 100, 300]\n",
    "\n",
    "nmf_homogeneity = np.zeros(len(r))\n",
    "nmf_completeness = np.zeros(len(r))\n",
    "nmf_v = np.zeros(len(r))\n",
    "nmf_rand = np.zeros(len(r))\n",
    "nmf_mutual_info = np.zeros(len(r))"
   ]
  },
  {
   "cell_type": "code",
   "execution_count": 44,
   "metadata": {},
   "outputs": [
    {
     "name": "stderr",
     "output_type": "stream",
     "text": [
      "C:\\Users\\zharr\\AppData\\Local\\Programs\\Python\\Python35\\lib\\site-packages\\sklearn\\metrics\\cluster\\supervised.py:732: FutureWarning: The behavior of AMI will change in version 0.22. To match the behavior of 'v_measure_score', AMI will use average_method='arithmetic' by default.\n",
      "  FutureWarning)\n",
      "C:\\Users\\zharr\\AppData\\Local\\Programs\\Python\\Python35\\lib\\site-packages\\sklearn\\metrics\\cluster\\supervised.py:732: FutureWarning: The behavior of AMI will change in version 0.22. To match the behavior of 'v_measure_score', AMI will use average_method='arithmetic' by default.\n",
      "  FutureWarning)\n",
      "C:\\Users\\zharr\\AppData\\Local\\Programs\\Python\\Python35\\lib\\site-packages\\sklearn\\metrics\\cluster\\supervised.py:732: FutureWarning: The behavior of AMI will change in version 0.22. To match the behavior of 'v_measure_score', AMI will use average_method='arithmetic' by default.\n",
      "  FutureWarning)\n",
      "C:\\Users\\zharr\\AppData\\Local\\Programs\\Python\\Python35\\lib\\site-packages\\sklearn\\metrics\\cluster\\supervised.py:732: FutureWarning: The behavior of AMI will change in version 0.22. To match the behavior of 'v_measure_score', AMI will use average_method='arithmetic' by default.\n",
      "  FutureWarning)\n",
      "C:\\Users\\zharr\\AppData\\Local\\Programs\\Python\\Python35\\lib\\site-packages\\sklearn\\metrics\\cluster\\supervised.py:732: FutureWarning: The behavior of AMI will change in version 0.22. To match the behavior of 'v_measure_score', AMI will use average_method='arithmetic' by default.\n",
      "  FutureWarning)\n",
      "C:\\Users\\zharr\\AppData\\Local\\Programs\\Python\\Python35\\lib\\site-packages\\sklearn\\metrics\\cluster\\supervised.py:732: FutureWarning: The behavior of AMI will change in version 0.22. To match the behavior of 'v_measure_score', AMI will use average_method='arithmetic' by default.\n",
      "  FutureWarning)\n",
      "C:\\Users\\zharr\\AppData\\Local\\Programs\\Python\\Python35\\lib\\site-packages\\sklearn\\metrics\\cluster\\supervised.py:732: FutureWarning: The behavior of AMI will change in version 0.22. To match the behavior of 'v_measure_score', AMI will use average_method='arithmetic' by default.\n",
      "  FutureWarning)\n",
      "C:\\Users\\zharr\\AppData\\Local\\Programs\\Python\\Python35\\lib\\site-packages\\sklearn\\metrics\\cluster\\supervised.py:732: FutureWarning: The behavior of AMI will change in version 0.22. To match the behavior of 'v_measure_score', AMI will use average_method='arithmetic' by default.\n",
      "  FutureWarning)\n",
      "C:\\Users\\zharr\\AppData\\Local\\Programs\\Python\\Python35\\lib\\site-packages\\sklearn\\metrics\\cluster\\supervised.py:732: FutureWarning: The behavior of AMI will change in version 0.22. To match the behavior of 'v_measure_score', AMI will use average_method='arithmetic' by default.\n",
      "  FutureWarning)\n"
     ]
    }
   ],
   "source": [
    "# Perform NMF for each number of components and calculate each metric\n",
    "\n",
    "for i in range(len(r)):\n",
    "    nmf = NMF(n_components=r[i])\n",
    "    X_data_nmf_r = nmf.fit_transform(X_data_tfidf)\n",
    "    nmf_kmeans = KMeans(n_clusters=2, random_state=0, max_iter=1000, n_init=40).fit(X_data_nmf_r)\n",
    "    nmf_homogeneity[i] = homogeneity_score(twenty_binary_labels, nmf_kmeans.labels_)\n",
    "    nmf_completeness[i] = completeness_score(twenty_binary_labels, nmf_kmeans.labels_)\n",
    "    nmf_v[i] = v_measure_score(twenty_binary_labels, nmf_kmeans.labels_)\n",
    "    nmf_rand[i] = adjusted_rand_score(twenty_binary_labels, nmf_kmeans.labels_)\n",
    "    nmf_mutual_info[i] = adjusted_mutual_info_score(twenty_binary_labels, nmf_kmeans.labels_)"
   ]
  },
  {
   "cell_type": "code",
   "execution_count": 45,
   "metadata": {},
   "outputs": [
    {
     "data": {
      "image/png": "[encoded data removed]",
      "text/plain": [
       "<Figure size 432x288 with 1 Axes>"
      ]
     },
     "metadata": {
      "needs_background": "light"
     },
     "output_type": "display_data"
    }
   ],
   "source": [
    "# Plot metrics for nmf.\n",
    "\n",
    "plt.figure()\n",
    "plt.plot(r, nmf_homogeneity)\n",
    "plt.plot(r, nmf_completeness)\n",
    "plt.plot(r, nmf_v)\n",
    "plt.plot(r, nmf_rand)\n",
    "plt.plot(r, nmf_mutual_info)\n",
    "\n",
    "plt.legend(['homogeneity', 'completeness', 'v', 'rand', 'mutual information'])\n",
    "plt.show()"
   ]
  },
  {
   "cell_type": "code",
   "execution_count": 46,
   "metadata": {},
   "outputs": [
    {
     "name": "stdout",
     "output_type": "stream",
     "text": [
      "Homogeneity scores:  [3.000e-04 6.790e-01 2.293e-01 1.806e-01 1.893e-01 2.071e-01 1.210e-02\n",
      " 1.300e-03 1.000e-04]\n",
      "Completeness scores:  [3.000e-04 6.801e-01 3.165e-01 2.787e-01 2.862e-01 2.982e-01 7.610e-02\n",
      " 9.170e-02 1.200e-03]\n",
      "V measure scores:  [3.000e-04 6.796e-01 2.660e-01 2.192e-01 2.279e-01 2.444e-01 2.080e-02\n",
      " 2.500e-03 2.000e-04]\n",
      "Adjusted rand scores:  [3.000e-04 7.770e-01 1.528e-01 1.020e-01 1.099e-01 1.301e-01 2.000e-03\n",
      " 1.000e-04 1.000e-04]\n",
      "Adjusted mutual information scores:  [2.000e-04 6.790e-01 2.293e-01 1.806e-01 1.893e-01 2.071e-01 1.200e-02\n",
      " 1.200e-03 0.000e+00]\n"
     ]
    }
   ],
   "source": [
    "print('Homogeneity scores: ', np.round(nmf_homogeneity, 4))\n",
    "print('Completeness scores: ', np.round(nmf_completeness, 4))\n",
    "print('V measure scores: ', np.round(nmf_v, 4))\n",
    "print('Adjusted rand scores: ', np.round(nmf_rand, 4))\n",
    "print('Adjusted mutual information scores: ', np.round(nmf_mutual_info, 4))"
   ]
  },
  {
   "cell_type": "markdown",
   "metadata": {},
   "source": [
    "#### Question 6\n",
    "\n",
    "<span style='color:red'>TODO</span>\n",
    "\n",
    "Both the SVD and NMF measures have non-monotonic behaviors as r increases."
   ]
  },
  {
   "cell_type": "code",
   "execution_count": null,
   "metadata": {},
   "outputs": [],
   "source": []
  },
  {
   "cell_type": "markdown",
   "metadata": {
    "collapsed": true
   },
   "source": [
    "#### Question 11"
   ]
  },
  {
   "cell_type": "markdown",
   "metadata": {},
   "source": [
    "##### Pull in the 20-category dataset"
   ]
  },
  {
   "cell_type": "code",
   "execution_count": 79,
   "metadata": {},
   "outputs": [
    {
     "name": "stderr",
     "output_type": "stream",
     "text": [
      "C:\\Users\\zharr\\AppData\\Local\\Programs\\Python\\Python35\\lib\\site-packages\\matplotlib\\axes\\_base.py:3116: MatplotlibDeprecationWarning: \n",
      "The `xmin` argument was deprecated in Matplotlib 3.0 and will be removed in 3.2. Use `left` instead.\n",
      "  alternative='`left`', obj_type='argument')\n",
      "C:\\Users\\zharr\\AppData\\Local\\Programs\\Python\\Python35\\lib\\site-packages\\matplotlib\\axes\\_base.py:3122: MatplotlibDeprecationWarning: \n",
      "The `xmax` argument was deprecated in Matplotlib 3.0 and will be removed in 3.2. Use `right` instead.\n",
      "  alternative='`right`', obj_type='argument')\n"
     ]
    },
    {
     "data": {
      "image/png": "[encoded data removed]",
      "text/plain": [
       "<Figure size 432x288 with 1 Axes>"
      ]
     },
     "metadata": {
      "needs_background": "light"
     },
     "output_type": "display_data"
    },
    {
     "name": "stdout",
     "output_type": "stream",
     "text": [
      "20\n",
      "['alt.atheism', 'comp.graphics', 'comp.os.ms-windows.misc', 'comp.sys.ibm.pc.hardware', 'comp.sys.mac.hardware', 'comp.windows.x', 'misc.forsale', 'rec.autos', 'rec.motorcycles', 'rec.sport.baseball', 'rec.sport.hockey', 'sci.crypt', 'sci.electronics', 'sci.med', 'sci.space', 'soc.religion.christian', 'talk.politics.guns', 'talk.politics.mideast', 'talk.politics.misc', 'talk.religion.misc']\n"
     ]
    }
   ],
   "source": [
    "# Fetch all 20 news groups categories and plot a histogram of the training documents.\n",
    "\n",
    "twenty_data20 = fetch_20newsgroups(subset='train', shuffle=True, random_state=42)\n",
    "x = range(-1,23)\n",
    "plt.hist(newsgroups_train.target, x, rwidth=0.9)\n",
    "plt.xlabel('Categories')\n",
    "plt.ylabel('Label Count')\n",
    "plt.xlim(xmin=-1, xmax = 21)\n",
    "plt.savefig('{}/20-groups.eps'.format(figs_dir), format='eps', dpi=100)\n",
    "plt.show()\n",
    "\n",
    "categories = twenty_data20.target_names\n",
    "print(len(categories)) # there should be 20\n",
    "print(categories)"
   ]
  },
  {
   "cell_type": "markdown",
   "metadata": {},
   "source": [
    "##### Redo CountVect and TF-IDF calculations"
   ]
  },
  {
   "cell_type": "code",
   "execution_count": 80,
   "metadata": {},
   "outputs": [],
   "source": [
    "# Push documents through CountVectorizer\n",
    "from sklearn.feature_extraction.text import CountVectorizer\n",
    "analyzer = CountVectorizer().build_analyzer()\n",
    "\n",
    "count_vect20 = CountVectorizer(min_df=3, stop_words='english')\n",
    "\n",
    "# do for the whole set\n",
    "X_data20 = count_vect20.fit_transform(twenty_data20.data)"
   ]
  },
  {
   "cell_type": "code",
   "execution_count": 81,
   "metadata": {},
   "outputs": [
    {
     "name": "stdout",
     "output_type": "stream",
     "text": [
      "Dimensions of the TF-IDF matrix are: (11314, 38563)\n"
     ]
    }
   ],
   "source": [
    "# Report shapes of TF-IDF matrices\n",
    "\n",
    "from sklearn.feature_extraction.text import TfidfTransformer\n",
    "tfidf_transformer20 = TfidfTransformer()\n",
    "\n",
    "# do for training\n",
    "X_data_tfidf20 = tfidf_transformer20.fit_transform(X_data20)\n",
    "print('Dimensions of the TF-IDF matrix are: {}'.format(X_data_tfidf20.shape))"
   ]
  },
  {
   "cell_type": "markdown",
   "metadata": {},
   "source": [
    "##### Applying K-means"
   ]
  },
  {
   "cell_type": "code",
   "execution_count": 83,
   "metadata": {},
   "outputs": [
    {
     "name": "stdout",
     "output_type": "stream",
     "text": [
      "Time taken for kmean 20-class clustering: 36.74 minutes\n"
     ]
    }
   ],
   "source": [
    "# Applying k-means clustering\n",
    "# data is called X_data_tfidf\n",
    "from sklearn.cluster import KMeans\n",
    "import time\n",
    "\n",
    "#reference: https://scikit-learn.org/stable/modules/generated/sklearn.cluster.KMeans.html\n",
    "\n",
    "#perfroming kmeans clsutering with k=20\n",
    "start_time = time.time()\n",
    "kmeans20 = KMeans(n_clusters=20, random_state=0, max_iter=1000, n_init = 40, n_jobs=-1).fit(X_data_tfidf20)\n",
    "print('Time taken for kmean 20-class clustering: {:.2f} minutes'.format((time.time() - start_time)/60))\n",
    "      \n",
    "kmeans_labels= kmeans20.labels_\n",
    "category_labels = twenty_data20.target"
   ]
  },
  {
   "cell_type": "markdown",
   "metadata": {},
   "source": [
    "#### Report the 5 measures:"
   ]
  },
  {
   "cell_type": "code",
   "execution_count": 84,
   "metadata": {},
   "outputs": [
    {
     "name": "stdout",
     "output_type": "stream",
     "text": [
      "kmeans clustering results with k=20\n",
      "-------------------------------------------------------------------\n",
      "Homegeneity: 0.30858035934907474\n",
      "Completeness: 0.3910795121229359\n",
      "V-measure: 0.3449660650997735\n",
      "Adjusted Rand Index: 0.11048329289056244\n",
      "Adjusted Mutual Information Score: 0.3047922979115795\n",
      "-------------------------------------------------------------------\n"
     ]
    },
    {
     "name": "stderr",
     "output_type": "stream",
     "text": [
      "C:\\Users\\zharr\\AppData\\Local\\Programs\\Python\\Python35\\lib\\site-packages\\sklearn\\metrics\\cluster\\supervised.py:732: FutureWarning: The behavior of AMI will change in version 0.22. To match the behavior of 'v_measure_score', AMI will use average_method='arithmetic' by default.\n",
      "  FutureWarning)\n"
     ]
    }
   ],
   "source": [
    "from sklearn.metrics import homogeneity_score\n",
    "from sklearn.metrics import completeness_score\n",
    "from sklearn.metrics import v_measure_score\n",
    "from sklearn.metrics import adjusted_rand_score\n",
    "from sklearn.metrics import adjusted_mutual_info_score\n",
    "\n",
    "homogeneity = homogeneity_score(category_labels, kmeans_labels)\n",
    "completeness = completeness_score(category_labels, kmeans_labels)\n",
    "v_measure = v_measure_score(category_labels, kmeans_labels)\n",
    "adjusted_rand_index = adjusted_rand_score(category_labels, kmeans_labels)\n",
    "adjusted_mutual_info = adjusted_mutual_info_score(category_labels, kmeans_labels)\n",
    "\n",
    "print('kmeans clustering results with k=20')\n",
    "print('-------------------------------------------------------------------')\n",
    "print('Homegeneity: {}'.format(homogeneity))\n",
    "print('Completeness: {}'.format(completeness))\n",
    "print('V-measure: {}'.format(v_measure))\n",
    "print('Adjusted Rand Index: {}'.format(adjusted_rand_index))\n",
    "print('Adjusted Mutual Information Score: {}'.format(adjusted_mutual_info))\n",
    "print('-------------------------------------------------------------------')"
   ]
  },
  {
   "cell_type": "markdown",
   "metadata": {},
   "source": [
    "##### and the contingency matrix:"
   ]
  },
  {
   "cell_type": "code",
   "execution_count": 85,
   "metadata": {},
   "outputs": [
    {
     "data": {
      "text/plain": [
       "array([[  0,   0,   0, 113, 138,   0,  14,   0,   0,   6,  35, 130,  39,\n",
       "          0,   0,   1,   0,   4,   0,   0],\n",
       "       [  0,   0,   0,   1,  58, 129,  11,   0,   0,  18,  49,   4, 298,\n",
       "          1,   2,   9,   4,   0,   0,   0],\n",
       "       [  4,   0,   0,   0,  25, 341,  10,   0,   0,  15,  27,   5, 146,\n",
       "         12,   0,   1,   5,   0,   0,   0],\n",
       "       [123,   0,   0,   0,  75, 133,   6,   0,   0,  14,  12,  18, 185,\n",
       "          6,   0,   5,  11,   0,   2,   0],\n",
       "       [ 46,   0,   0,   0,  62,  40,  10,   0,   0,  12,  17,  18, 345,\n",
       "          1,   7,   7,  13,   0,   0,   0],\n",
       "       [  0,   2,   0,   0,  94, 113,   1,   0,   0,  10,  60,   2, 292,\n",
       "          0,   2,  15,   2,   0,   0,   0],\n",
       "       [ 19,   0,   0,   0,  92,  36,   5,   0,   0,   9,   3,   7, 359,\n",
       "          7,  20,   2,  16,   0,  10,   0],\n",
       "       [  0,   0,   0,   0, 378,   3,  35,   0,   0,  22,   5,  12, 109,\n",
       "          0,  21,   1,   5,   2,   0,   1],\n",
       "       [  0,   0,   0,   0, 332,   0,  18,   0,   0,  80,  60,   6,  78,\n",
       "          1,   4,  15,   4,   0,   0,   0],\n",
       "       [  0,   0,   0,   0, 107,   0,  22,   0,   0,   5,   1,   2, 197,\n",
       "          1,   4,   3,  28,   0, 227,   0],\n",
       "       [  0,   0,   0,   0,  23,   0,   1,   0,   0,   2,   2,   2,  70,\n",
       "          0,   4,   1,  27,   0, 468,   0],\n",
       "       [  0, 345,   0,   0, 126,   6,   1,   0,   0,   4,  20,   0,  54,\n",
       "         14,   9,   6,   0,  10,   0,   0],\n",
       "       [  3,   1,   0,   0, 181,   7,   9,   0,   0,  28,  29,   2, 283,\n",
       "          1,   4,  19,  13,   0,   1,  10],\n",
       "       [  0,   0,  77,   0, 273,   2,   4,   0,   0,  10,   9,   1, 142,\n",
       "          4,   3,  11,  11,  47,   0,   0],\n",
       "       [  0,   0,   0,   0, 157,   1,  17,   0,   0,  11,  13,   1, 122,\n",
       "         58,   0, 121,   3,   2,   0,  87],\n",
       "       [  0,   0,   0, 360, 118,   0,   5,   0,   0,   7,   9,   2,  86,\n",
       "          0,   2,   0,   8,   2,   0,   0],\n",
       "       [  0,   1,   0,   0,  64,   0,  16,   0,   0,  13,  11,   4,  40,\n",
       "          1,   2,   3,   2, 389,   0,   0],\n",
       "       [  0,   0,   0,   3,  69,   0,   9, 132, 245,   7,   2,  14,  72,\n",
       "          0,   2,   0,   8,   1,   0,   0],\n",
       "       [  0,   1,   0,   3, 207,   0,  12,   0,   0,  62,   3,  10,  63,\n",
       "          1,  33,   9,   0,  56,   5,   0],\n",
       "       [  0,   0,   1, 121, 133,   0,   7,   0,   0,   1,   9,  25,  54,\n",
       "          3,   0,   0,   0,  23,   0,   0]])"
      ]
     },
     "execution_count": 85,
     "metadata": {},
     "output_type": "execute_result"
    }
   ],
   "source": [
    "# Contingency matrix\n",
    "from sklearn.metrics.cluster import contingency_matrix\n",
    "\n",
    "contingency_matrix(category_labels, kmeans_labels)"
   ]
  },
  {
   "cell_type": "markdown",
   "metadata": {},
   "source": [
    "#### Question 12"
   ]
  },
  {
   "cell_type": "markdown",
   "metadata": {},
   "source": [
    "##### Analyzing SVD:"
   ]
  },
  {
   "cell_type": "code",
   "execution_count": 96,
   "metadata": {},
   "outputs": [],
   "source": [
    "# Initialize r, which is basically how many components we want to use.\n",
    "\n",
    "r20 = [1, 2, 3, 5, 10, 20, 50, 100, 300]"
   ]
  },
  {
   "cell_type": "code",
   "execution_count": 97,
   "metadata": {},
   "outputs": [],
   "source": [
    "# SVD\n",
    "\n",
    "from sklearn.decomposition import TruncatedSVD\n",
    "\n",
    "svd20 = TruncatedSVD(n_components=r20[-1])\n",
    "X_data_svd_r20 = svd20.fit_transform(X_data_tfidf20)"
   ]
  },
  {
   "cell_type": "code",
   "execution_count": 98,
   "metadata": {},
   "outputs": [],
   "source": [
    "# Import packages\n",
    "\n",
    "from sklearn.cluster import KMeans\n",
    "from sklearn.metrics import homogeneity_score\n",
    "from sklearn.metrics import completeness_score\n",
    "from sklearn.metrics import v_measure_score\n",
    "from sklearn.metrics import adjusted_rand_score\n",
    "from sklearn.metrics import adjusted_mutual_info_score"
   ]
  },
  {
   "cell_type": "code",
   "execution_count": 99,
   "metadata": {},
   "outputs": [
    {
     "name": "stderr",
     "output_type": "stream",
     "text": [
      "C:\\Users\\zharr\\AppData\\Local\\Programs\\Python\\Python35\\lib\\site-packages\\sklearn\\metrics\\cluster\\supervised.py:732: FutureWarning: The behavior of AMI will change in version 0.22. To match the behavior of 'v_measure_score', AMI will use average_method='arithmetic' by default.\n",
      "  FutureWarning)\n"
     ]
    },
    {
     "name": "stdout",
     "output_type": "stream",
     "text": [
      "r=1: 0.09 minutes\n"
     ]
    },
    {
     "name": "stderr",
     "output_type": "stream",
     "text": [
      "C:\\Users\\zharr\\AppData\\Local\\Programs\\Python\\Python35\\lib\\site-packages\\sklearn\\metrics\\cluster\\supervised.py:732: FutureWarning: The behavior of AMI will change in version 0.22. To match the behavior of 'v_measure_score', AMI will use average_method='arithmetic' by default.\n",
      "  FutureWarning)\n"
     ]
    },
    {
     "name": "stdout",
     "output_type": "stream",
     "text": [
      "r=2: 0.21 minutes\n"
     ]
    },
    {
     "name": "stderr",
     "output_type": "stream",
     "text": [
      "C:\\Users\\zharr\\AppData\\Local\\Programs\\Python\\Python35\\lib\\site-packages\\sklearn\\metrics\\cluster\\supervised.py:732: FutureWarning: The behavior of AMI will change in version 0.22. To match the behavior of 'v_measure_score', AMI will use average_method='arithmetic' by default.\n",
      "  FutureWarning)\n"
     ]
    },
    {
     "name": "stdout",
     "output_type": "stream",
     "text": [
      "r=3: 0.24 minutes\n"
     ]
    },
    {
     "name": "stderr",
     "output_type": "stream",
     "text": [
      "C:\\Users\\zharr\\AppData\\Local\\Programs\\Python\\Python35\\lib\\site-packages\\sklearn\\metrics\\cluster\\supervised.py:732: FutureWarning: The behavior of AMI will change in version 0.22. To match the behavior of 'v_measure_score', AMI will use average_method='arithmetic' by default.\n",
      "  FutureWarning)\n"
     ]
    },
    {
     "name": "stdout",
     "output_type": "stream",
     "text": [
      "r=5: 0.23 minutes\n"
     ]
    },
    {
     "name": "stderr",
     "output_type": "stream",
     "text": [
      "C:\\Users\\zharr\\AppData\\Local\\Programs\\Python\\Python35\\lib\\site-packages\\sklearn\\metrics\\cluster\\supervised.py:732: FutureWarning: The behavior of AMI will change in version 0.22. To match the behavior of 'v_measure_score', AMI will use average_method='arithmetic' by default.\n",
      "  FutureWarning)\n"
     ]
    },
    {
     "name": "stdout",
     "output_type": "stream",
     "text": [
      "r=10: 0.18 minutes\n"
     ]
    },
    {
     "name": "stderr",
     "output_type": "stream",
     "text": [
      "C:\\Users\\zharr\\AppData\\Local\\Programs\\Python\\Python35\\lib\\site-packages\\sklearn\\metrics\\cluster\\supervised.py:732: FutureWarning: The behavior of AMI will change in version 0.22. To match the behavior of 'v_measure_score', AMI will use average_method='arithmetic' by default.\n",
      "  FutureWarning)\n"
     ]
    },
    {
     "name": "stdout",
     "output_type": "stream",
     "text": [
      "r=20: 0.14 minutes\n"
     ]
    },
    {
     "name": "stderr",
     "output_type": "stream",
     "text": [
      "C:\\Users\\zharr\\AppData\\Local\\Programs\\Python\\Python35\\lib\\site-packages\\sklearn\\metrics\\cluster\\supervised.py:732: FutureWarning: The behavior of AMI will change in version 0.22. To match the behavior of 'v_measure_score', AMI will use average_method='arithmetic' by default.\n",
      "  FutureWarning)\n"
     ]
    },
    {
     "name": "stdout",
     "output_type": "stream",
     "text": [
      "r=50: 0.21 minutes\n"
     ]
    },
    {
     "name": "stderr",
     "output_type": "stream",
     "text": [
      "C:\\Users\\zharr\\AppData\\Local\\Programs\\Python\\Python35\\lib\\site-packages\\sklearn\\metrics\\cluster\\supervised.py:732: FutureWarning: The behavior of AMI will change in version 0.22. To match the behavior of 'v_measure_score', AMI will use average_method='arithmetic' by default.\n",
      "  FutureWarning)\n"
     ]
    },
    {
     "name": "stdout",
     "output_type": "stream",
     "text": [
      "r=100: 0.37 minutes\n",
      "r=300: 0.82 minutes\n",
      "Time taken for kmean 20-class SVD search: 2.50 minutes\n"
     ]
    },
    {
     "name": "stderr",
     "output_type": "stream",
     "text": [
      "C:\\Users\\zharr\\AppData\\Local\\Programs\\Python\\Python35\\lib\\site-packages\\sklearn\\metrics\\cluster\\supervised.py:732: FutureWarning: The behavior of AMI will change in version 0.22. To match the behavior of 'v_measure_score', AMI will use average_method='arithmetic' by default.\n",
      "  FutureWarning)\n"
     ]
    }
   ],
   "source": [
    "svd_homogeneity = np.zeros(len(r20))\n",
    "svd_completeness = np.zeros(len(r20))\n",
    "svd_v = np.zeros(len(r20))\n",
    "svd_rand = np.zeros(len(r20))\n",
    "svd_mutual_info = np.zeros(len(r20))\n",
    "\n",
    "category_labels = twenty_data20.target\n",
    "\n",
    "import time\n",
    "start_time = time.time()\n",
    "\n",
    "for i in range(len(r20)):\n",
    "    interm_time = time.time()\n",
    "    svd_kmeans = KMeans(n_clusters=20, random_state=0, max_iter=1000, n_init=40, n_jobs=-1).fit(X_data_svd_r20[:, 0:r20[i]])\n",
    "    svd_homogeneity[i] = homogeneity_score(category_labels, svd_kmeans.labels_)\n",
    "    svd_completeness[i] = completeness_score(category_labels, svd_kmeans.labels_)\n",
    "    svd_v[i] = v_measure_score(category_labels, svd_kmeans.labels_)\n",
    "    svd_rand[i] = adjusted_rand_score(category_labels, svd_kmeans.labels_)\n",
    "    svd_mutual_info[i] = adjusted_mutual_info_score(category_labels, svd_kmeans.labels_)\n",
    "    print('r={}: {:.2f} minutes'.format(r20[i], (time.time() - interm_time)/60))\n",
    "    \n",
    "print('Time taken for kmean 20-class SVD search: {:.2f} minutes'.format((time.time() - start_time)/60))"
   ]
  },
  {
   "cell_type": "code",
   "execution_count": 100,
   "metadata": {},
   "outputs": [
    {
     "data": {
      "image/png": "[encoded data removed]",
      "text/plain": [
       "<Figure size 432x288 with 1 Axes>"
      ]
     },
     "metadata": {
      "needs_background": "light"
     },
     "output_type": "display_data"
    }
   ],
   "source": [
    "# Plot metrics for svd.\n",
    "\n",
    "plt.figure()\n",
    "plt.plot(r, svd_homogeneity)\n",
    "plt.plot(r, svd_completeness)\n",
    "plt.plot(r, svd_v)\n",
    "plt.plot(r, svd_rand)\n",
    "plt.plot(r, svd_mutual_info)\n",
    "\n",
    "plt.legend(['homogeneity', 'completeness', 'v', 'rand', 'mutual information'])\n",
    "plt.show()"
   ]
  },
  {
   "cell_type": "code",
   "execution_count": 101,
   "metadata": {},
   "outputs": [
    {
     "name": "stdout",
     "output_type": "stream",
     "text": [
      "Homogeneity scores:  [0.0308 0.2142 0.2493 0.3153 0.3523 0.2923 0.2947 0.3011 0.3189]\n",
      "Completeness scores:  [0.0345 0.2313 0.2626 0.3393 0.3944 0.3601 0.3946 0.4217 0.4363]\n",
      "V measure scores:  [0.0325 0.2224 0.2558 0.3269 0.3721 0.3227 0.3374 0.3513 0.3685]\n",
      "Adjusted rand scores:  [0.0058 0.0651 0.0835 0.1184 0.144  0.1082 0.0892 0.0965 0.0994]\n",
      "Adjusted mutual information scores:  [0.0255 0.2099 0.2452 0.3115 0.3487 0.2884 0.2907 0.2971 0.3151]\n"
     ]
    }
   ],
   "source": [
    "print('Homogeneity scores: ', np.round(svd_homogeneity, 4))\n",
    "print('Completeness scores: ', np.round(svd_completeness, 4))\n",
    "print('V measure scores: ', np.round(svd_v, 4))\n",
    "print('Adjusted rand scores: ', np.round(svd_rand, 4))\n",
    "print('Adjusted mutual information scores: ', np.round(svd_mutual_info, 4))"
   ]
  },
  {
   "cell_type": "markdown",
   "metadata": {},
   "source": [
    "##### Analyzing NMF:"
   ]
  },
  {
   "cell_type": "code",
   "execution_count": 102,
   "metadata": {},
   "outputs": [],
   "source": [
    "# Import packages\n",
    "\n",
    "from sklearn.decomposition import NMF\n",
    "\n",
    "from sklearn.cluster import KMeans\n",
    "from sklearn.metrics import homogeneity_score\n",
    "from sklearn.metrics import completeness_score\n",
    "from sklearn.metrics import v_measure_score\n",
    "from sklearn.metrics import adjusted_rand_score\n",
    "from sklearn.metrics import adjusted_mutual_info_score"
   ]
  },
  {
   "cell_type": "code",
   "execution_count": 103,
   "metadata": {},
   "outputs": [],
   "source": [
    "# Initialize an array for each metric.\n",
    "\n",
    "nmf_homogeneity = np.zeros(len(r20))\n",
    "nmf_completeness = np.zeros(len(r20))\n",
    "nmf_v = np.zeros(len(r20))\n",
    "nmf_rand = np.zeros(len(r20))\n",
    "nmf_mutual_info = np.zeros(len(r20))"
   ]
  },
  {
   "cell_type": "code",
   "execution_count": 104,
   "metadata": {},
   "outputs": [
    {
     "name": "stderr",
     "output_type": "stream",
     "text": [
      "C:\\Users\\zharr\\AppData\\Local\\Programs\\Python\\Python35\\lib\\site-packages\\sklearn\\metrics\\cluster\\supervised.py:732: FutureWarning: The behavior of AMI will change in version 0.22. To match the behavior of 'v_measure_score', AMI will use average_method='arithmetic' by default.\n",
      "  FutureWarning)\n"
     ]
    },
    {
     "name": "stdout",
     "output_type": "stream",
     "text": [
      "r=1: 0.11 minutes\n"
     ]
    },
    {
     "name": "stderr",
     "output_type": "stream",
     "text": [
      "C:\\Users\\zharr\\AppData\\Local\\Programs\\Python\\Python35\\lib\\site-packages\\sklearn\\metrics\\cluster\\supervised.py:732: FutureWarning: The behavior of AMI will change in version 0.22. To match the behavior of 'v_measure_score', AMI will use average_method='arithmetic' by default.\n",
      "  FutureWarning)\n"
     ]
    },
    {
     "name": "stdout",
     "output_type": "stream",
     "text": [
      "r=2: 0.21 minutes\n"
     ]
    },
    {
     "name": "stderr",
     "output_type": "stream",
     "text": [
      "C:\\Users\\zharr\\AppData\\Local\\Programs\\Python\\Python35\\lib\\site-packages\\sklearn\\metrics\\cluster\\supervised.py:732: FutureWarning: The behavior of AMI will change in version 0.22. To match the behavior of 'v_measure_score', AMI will use average_method='arithmetic' by default.\n",
      "  FutureWarning)\n"
     ]
    },
    {
     "name": "stdout",
     "output_type": "stream",
     "text": [
      "r=3: 0.18 minutes\n"
     ]
    },
    {
     "name": "stderr",
     "output_type": "stream",
     "text": [
      "C:\\Users\\zharr\\AppData\\Local\\Programs\\Python\\Python35\\lib\\site-packages\\sklearn\\metrics\\cluster\\supervised.py:732: FutureWarning: The behavior of AMI will change in version 0.22. To match the behavior of 'v_measure_score', AMI will use average_method='arithmetic' by default.\n",
      "  FutureWarning)\n"
     ]
    },
    {
     "name": "stdout",
     "output_type": "stream",
     "text": [
      "r=5: 0.22 minutes\n"
     ]
    },
    {
     "name": "stderr",
     "output_type": "stream",
     "text": [
      "C:\\Users\\zharr\\AppData\\Local\\Programs\\Python\\Python35\\lib\\site-packages\\sklearn\\metrics\\cluster\\supervised.py:732: FutureWarning: The behavior of AMI will change in version 0.22. To match the behavior of 'v_measure_score', AMI will use average_method='arithmetic' by default.\n",
      "  FutureWarning)\n"
     ]
    },
    {
     "name": "stdout",
     "output_type": "stream",
     "text": [
      "r=10: 0.22 minutes\n"
     ]
    },
    {
     "name": "stderr",
     "output_type": "stream",
     "text": [
      "C:\\Users\\zharr\\AppData\\Local\\Programs\\Python\\Python35\\lib\\site-packages\\sklearn\\metrics\\cluster\\supervised.py:732: FutureWarning: The behavior of AMI will change in version 0.22. To match the behavior of 'v_measure_score', AMI will use average_method='arithmetic' by default.\n",
      "  FutureWarning)\n"
     ]
    },
    {
     "name": "stdout",
     "output_type": "stream",
     "text": [
      "r=20: 0.26 minutes\n"
     ]
    },
    {
     "name": "stderr",
     "output_type": "stream",
     "text": [
      "C:\\Users\\zharr\\AppData\\Local\\Programs\\Python\\Python35\\lib\\site-packages\\sklearn\\metrics\\cluster\\supervised.py:732: FutureWarning: The behavior of AMI will change in version 0.22. To match the behavior of 'v_measure_score', AMI will use average_method='arithmetic' by default.\n",
      "  FutureWarning)\n"
     ]
    },
    {
     "name": "stdout",
     "output_type": "stream",
     "text": [
      "r=50: 0.65 minutes\n"
     ]
    },
    {
     "name": "stderr",
     "output_type": "stream",
     "text": [
      "C:\\Users\\zharr\\AppData\\Local\\Programs\\Python\\Python35\\lib\\site-packages\\sklearn\\metrics\\cluster\\supervised.py:732: FutureWarning: The behavior of AMI will change in version 0.22. To match the behavior of 'v_measure_score', AMI will use average_method='arithmetic' by default.\n",
      "  FutureWarning)\n"
     ]
    },
    {
     "name": "stdout",
     "output_type": "stream",
     "text": [
      "r=100: 2.71 minutes\n",
      "r=300: 17.90 minutes\n",
      "Time taken for kmean 20-class NMF search: 22.46 minutes\n"
     ]
    },
    {
     "name": "stderr",
     "output_type": "stream",
     "text": [
      "C:\\Users\\zharr\\AppData\\Local\\Programs\\Python\\Python35\\lib\\site-packages\\sklearn\\metrics\\cluster\\supervised.py:732: FutureWarning: The behavior of AMI will change in version 0.22. To match the behavior of 'v_measure_score', AMI will use average_method='arithmetic' by default.\n",
      "  FutureWarning)\n"
     ]
    }
   ],
   "source": [
    "# Perform NMF for each number of components and calculate each metric\n",
    "\n",
    "category_labels = twenty_data20.target\n",
    "\n",
    "import time\n",
    "start_time = time.time()\n",
    "\n",
    "for i in range(len(r20)):\n",
    "    interm_time = time.time()\n",
    "    nmf = NMF(n_components=r20[i])\n",
    "    X_data_nmf_r = nmf.fit_transform(X_data_tfidf20)\n",
    "    nmf_kmeans = KMeans(n_clusters=20, random_state=0, max_iter=1000, n_init=40, n_jobs=-1).fit(X_data_nmf_r)\n",
    "    nmf_homogeneity[i] = homogeneity_score(category_labels, nmf_kmeans.labels_)\n",
    "    nmf_completeness[i] = completeness_score(category_labels, nmf_kmeans.labels_)\n",
    "    nmf_v[i] = v_measure_score(category_labels, nmf_kmeans.labels_)\n",
    "    nmf_rand[i] = adjusted_rand_score(category_labels, nmf_kmeans.labels_)\n",
    "    nmf_mutual_info[i] = adjusted_mutual_info_score(category_labels, nmf_kmeans.labels_)\n",
    "    print('r={}: {:.2f} minutes'.format(r20[i], (time.time() - interm_time)/60))\n",
    "    \n",
    "print('Time taken for kmean 20-class NMF search: {:.2f} minutes'.format((time.time() - start_time)/60))"
   ]
  },
  {
   "cell_type": "code",
   "execution_count": 105,
   "metadata": {},
   "outputs": [
    {
     "data": {
      "image/png": "[encoded data removed]",
      "text/plain": [
       "<Figure size 432x288 with 1 Axes>"
      ]
     },
     "metadata": {
      "needs_background": "light"
     },
     "output_type": "display_data"
    }
   ],
   "source": [
    "# Plot metrics for nmf.\n",
    "\n",
    "plt.figure()\n",
    "plt.plot(r, nmf_homogeneity)\n",
    "plt.plot(r, nmf_completeness)\n",
    "plt.plot(r, nmf_v)\n",
    "plt.plot(r, nmf_rand)\n",
    "plt.plot(r, nmf_mutual_info)\n",
    "\n",
    "plt.legend(['homogeneity', 'completeness', 'v', 'rand', 'mutual information'])\n",
    "plt.show()"
   ]
  },
  {
   "cell_type": "code",
   "execution_count": 106,
   "metadata": {},
   "outputs": [
    {
     "name": "stdout",
     "output_type": "stream",
     "text": [
      "Homogeneity scores:  [0.0308 0.1703 0.2178 0.2853 0.3045 0.2966 0.1786 0.0972 0.0844]\n",
      "Completeness scores:  [0.0345 0.1818 0.2461 0.3276 0.3465 0.3742 0.4099 0.3465 0.2856]\n",
      "V measure scores:  [0.0325 0.1759 0.2311 0.305  0.3242 0.3309 0.2488 0.1519 0.1303]\n",
      "Adjusted rand scores:  [0.0058 0.0495 0.0636 0.1036 0.1177 0.1036 0.0222 0.0063 0.0036]\n",
      "Adjusted mutual information scores:  [0.0255 0.1658 0.2135 0.2814 0.3007 0.2927 0.1739 0.092  0.0791]\n"
     ]
    }
   ],
   "source": [
    "print('Homogeneity scores: ', np.round(nmf_homogeneity, 4))\n",
    "print('Completeness scores: ', np.round(nmf_completeness, 4))\n",
    "print('V measure scores: ', np.round(nmf_v, 4))\n",
    "print('Adjusted rand scores: ', np.round(nmf_rand, 4))\n",
    "print('Adjusted mutual information scores: ', np.round(nmf_mutual_info, 4))"
   ]
  },
  {
   "cell_type": "code",
   "execution_count": null,
   "metadata": {},
   "outputs": [],
   "source": []
  }
 ],
 "metadata": {
  "kernelspec": {
   "display_name": "Python 3",
   "language": "python",
   "name": "python3"
  },
  "language_info": {
   "codemirror_mode": {
    "name": "ipython",
    "version": 3
   },
   "file_extension": ".py",
   "mimetype": "text/x-python",
   "name": "python",
   "nbconvert_exporter": "python",
   "pygments_lexer": "ipython3",
   "version": "3.5.4"
  }
 },
 "nbformat": 4,
 "nbformat_minor": 2
}
